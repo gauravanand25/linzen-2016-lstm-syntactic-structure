{
 "cells": [
  {
   "cell_type": "code",
   "execution_count": 75,
   "metadata": {},
   "outputs": [],
   "source": [
    "import csv\n",
    "import random\n",
    "from collections import Counter\n",
    "import numpy as np\n",
    "\n",
    "\n",
    "def read_tsv(filename, percentage=1, read_less=False, readlines=-1):\n",
    "    ret = []\n",
    "    cnt = 0\n",
    "    with open(filename, 'rb') as csvfile:\n",
    "        rowreader = csv.reader(csvfile, delimiter='\\t')\n",
    "        for row in rowreader:\n",
    "            cnt += 1\n",
    "            if read_less and cnt > readlines:\n",
    "                break\n",
    "            if random.random() < percentage:\n",
    "                assert len(row) == 2, \"What!!\"\n",
    "                ret.append(tuple(row))\n",
    "    return ret\n",
    "\n",
    "\n",
    "\n",
    "class SVAgreementCorpus():\n",
    "    def __init__(self, cut_off=-1):\n",
    "        self.train_file = './rnn_agr_simple/numpred.train'\n",
    "        self.val_file = './rnn_agr_simple/numpred.val'\n",
    "        self.data = []\n",
    "        self.val_data = []\n",
    "        self.idx_to_word = {}\n",
    "        self.word_to_idx = {}\n",
    "        self.vocab_size = len(self.word_to_idx)\n",
    "\n",
    "        self.word_to_idx[u'PAD'] = 0\n",
    "        self.word_to_idx[u'OOV'] = 1\n",
    "        self.load_data(cut_off)\n",
    "\n",
    "    def pad_list(self, x, desired_len):\n",
    "        x.extend([0]*(desired_len-len(x)))\n",
    "\n",
    "    def get_batch(self, data, size=1):\n",
    "        batch_mask = np.random.choice(len(data), size)\n",
    "\n",
    "        #Processing X, y\n",
    "        batch = data[batch_mask]\n",
    "        X_batch, y_batch, sents_batch = np.hsplit(batch, 3)\n",
    "        X_batch = X_batch.flatten()\n",
    "\n",
    "\n",
    "\n",
    "        y_batch = np.reshape(y_batch == 'VBP', -1)  # 'VBP' = 0, 'VBZ' = 1\n",
    "\n",
    "        # length of sequences\n",
    "        lengths = np.vectorize(len)(X_batch)\n",
    "        max_len = np.max(lengths)\n",
    "\n",
    "        # padding X_batch\n",
    "        np.vectorize(self.pad_list)(X_batch, max_len)\n",
    "\n",
    "        # reverse sorted order\n",
    "        order = np.flipud(np.argsort(lengths))\n",
    "        X_batch = X_batch[order]\n",
    "        y_batch = y_batch[order]\n",
    "        sents_batch = sents_batch[order]\n",
    "\n",
    "        # converts numpy 1d array of list to numpy 2d array\n",
    "        X_batch = np.concatenate(X_batch).reshape(len(X_batch), *np.shape(X_batch[0]))\n",
    "        y_batch = np.array(y_batch)\n",
    "\n",
    "        return X_batch, y_batch, sents_batch, lengths[order]\n",
    "\n",
    "\n",
    "    def __len__(self):\n",
    "        return len(self.data)\n",
    "\n",
    "    def load_data(self, cut_off=-1, train_percentage=0.1):\n",
    "        '''\n",
    "        train_percentage - what percentage of training data to use (uniformly sampled)\n",
    "        '''\n",
    "\n",
    "        assert self.train_file is not None, 'Filename error'\n",
    "\n",
    "        raw_data = read_tsv(self.train_file, percentage=train_percentage)\n",
    "\n",
    "        for target, sent in raw_data:\n",
    "            tokens = sent.split(' ')\n",
    "            encoded_sent = []\n",
    "            for token in tokens:\n",
    "                if token not in self.word_to_idx:\n",
    "                    self.word_to_idx[token] = len(self.word_to_idx)\n",
    "                encoded_sent.append(self.word_to_idx[token])\n",
    "            self.data.append((encoded_sent, target, sent))\n",
    "\n",
    "        self.idx_to_word = {v: k for k, v in self.word_to_idx.iteritems()}\n",
    "        self.vocab_size = len(self.word_to_idx)\n",
    "        self.data = np.array(self.data)\n",
    "\n",
    "        val_data = read_tsv(self.val_file, percentage=train_percentage)\n",
    "        for target, sent in val_data:\n",
    "            tokens = sent.split(' ')\n",
    "            encoded_sent = [self.word_to_idx[token] if token in self.word_to_idx else self.word_to_idx[u'OOV'] for token in tokens]\n",
    "            self.val_data.append((encoded_sent, target, sent))\n",
    "        self.val_data = np.array(self.val_data)\n",
    "\n",
    "        if cut_off > 0:\n",
    "            self.data = self.data[:100]\n",
    "            self.val_data = self.val_data[:100]"
   ]
  },
  {
   "cell_type": "code",
   "execution_count": 17,
   "metadata": {},
   "outputs": [],
   "source": [
    "baby_dataset = SVAgreementCorpus(cut_off=100)"
   ]
  },
  {
   "cell_type": "code",
   "execution_count": 36,
   "metadata": {},
   "outputs": [],
   "source": [
    "import torch.nn as nn\n",
    "import torch.optim as optim\n",
    "import torch.nn.utils as utils\n",
    "from torch.autograd import Variable\n",
    "\n",
    "import torch\n",
    "\n",
    "\n",
    "class LinzenLSTM(nn.Module):\n",
    "    def __init__(self, embedding_dim, hidden_dim, dataset):\n",
    "        super(LinzenLSTM, self).__init__()\n",
    "\n",
    "        self.word_embeddings = nn.Embedding(dataset.vocab_size, embedding_dim=embedding_dim, padding_idx=0)\n",
    "\n",
    "        self.lstm = nn.LSTM(input_size=embedding_dim, hidden_size=hidden_dim, num_layers=1)\n",
    "\n",
    "        self.regression_layer = nn.Linear(hidden_dim, 2)\n",
    "        self.softmax = nn.Softmax()\n",
    "\n",
    "    def init_hidden(self):\n",
    "        return (Variable(torch.zeros(1, 1, self.hidden_dim)),\n",
    "                Variable(torch.zeros(1, 1, self.hidden_dim)))\n",
    "\n",
    "    def forward(self, X_batch, lengths, hidden=None):\n",
    "        embedded_X = self.word_embeddings(X_batch)  # N x max_len x k\n",
    "        packed_X = self.pad_and_pack(embedded_X, lengths)\n",
    "        lstm_out, self.hidden = self.lstm(packed_X, hidden)\n",
    "        h, c = self.hidden\n",
    "        unnorm_probs = self.regression_layer(h[0])\n",
    "        return unnorm_probs\n",
    "\n",
    "    def pad_and_pack(self, X_batch, lengths):\n",
    "        # pack padded sequence\n",
    "        X_batch = utils.rnn.pack_padded_sequence(X_batch, lengths, batch_first=True)\n",
    "        return X_batch\n"
   ]
  },
  {
   "cell_type": "code",
   "execution_count": 45,
   "metadata": {},
   "outputs": [],
   "source": [
    "def accuracy(dataset, model, train_or_val):\n",
    "    model.train(mode=False)\n",
    "    if train_or_val == 'train':\n",
    "        X, y, _, lengths = dataset.get_batch(data=dataset.data, size=len(dataset.data))\n",
    "    elif train_or_val == 'val':\n",
    "        X, y, _, lengths = dataset.get_batch(data=dataset.val_data, size=len(dataset.val_data))\n",
    "        \n",
    "    X = Variable(torch.LongTensor(X), requires_grad=False)  # N x max_len\n",
    "    y = Variable(torch.LongTensor(y.astype(int)), requires_grad=False)\n",
    "\n",
    "    y_pred = model.forward(X, lengths)\n",
    "    \n",
    "    _, pred = torch.max(y_pred, 1)\n",
    "    accurate = (pred==y)\n",
    "    \n",
    "    return accurate.data.numpy().mean()"
   ]
  },
  {
   "cell_type": "code",
   "execution_count": 37,
   "metadata": {},
   "outputs": [],
   "source": [
    "def train(dataset, model, args, early_stopping=True, debug=False):\n",
    "    criterion = nn.CrossEntropyLoss()\n",
    "    optimizer = optim.Adam(model.parameters(), lr=args['lr'])\n",
    "\n",
    "    \n",
    "    train_loss = []\n",
    "    validation_loss = []\n",
    "    best_accu_epoch = (0, 0)    # (accuracy, epoch)\n",
    "    \n",
    "    iterations = len(dataset) / args['batch_size']\n",
    "    threshold = 0\n",
    "    for epoch in range(args['epochs']):\n",
    "        model.train(mode=True)\n",
    "        epoch_loss = 0\n",
    "        for iter in range(iterations):\n",
    "            optimizer.zero_grad()\n",
    "\n",
    "            X_batch, y_batch, sents_batch, lengths = dataset.get_batch(data=dataset.data, size=args['batch_size'])\n",
    "\n",
    "            X_batch = Variable(torch.LongTensor(X_batch), requires_grad=False)      # N x max_len\n",
    "            y_batch = Variable(torch.LongTensor(y_batch.astype(int)), requires_grad=False)\n",
    "\n",
    "            y_pred = model.forward(X_batch, lengths)\n",
    "\n",
    "            loss = criterion(y_pred, target=y_batch)\n",
    "            epoch_loss += loss.data.numpy()[0]\n",
    "\n",
    "            if iter % 100 == 0 and debug:\n",
    "                print 'epoch=', epoch, 'iteration=', iter, 'Loss=', loss.data.numpy()[0]\n",
    "\n",
    "            loss.backward()\n",
    "            optimizer.step()\n",
    "        epoch_loss /= iterations\n",
    "        \n",
    "        # validation\n",
    "        model.train(mode=False)\n",
    "        X_val, y_val, _, lengths = dataset.get_batch(data=dataset.val_data, size=len(dataset.val_data))\n",
    "\n",
    "        X_val = Variable(torch.LongTensor(X_val), requires_grad=False)  # N x max_len\n",
    "        y_val = Variable(torch.LongTensor(y_val.astype(int)), requires_grad=False)\n",
    "\n",
    "        y_pred = model.forward(X_val, lengths)\n",
    "\n",
    "        val_loss = criterion(y_pred, target=y_val).data.numpy()[0]\n",
    "        val_accu = accuracy(dataset, model, 'val')\n",
    "        train_loss.append(epoch_loss)\n",
    "        validation_loss.append(val_loss)\n",
    "        \n",
    "        if val_accu > best_accu_epoch[0]:\n",
    "            best_accu_epoch = (val_accu, epoch)\n",
    "            torch.save(model, './save/' + str(args['lr']) + '.pt')\n",
    "        else:\n",
    "            threshold += 1\n",
    "            if threshold > 3 and early_stopping:\n",
    "                break\n",
    "        \n",
    "        \n",
    "        if epoch%7 == 0:\n",
    "            print 'epoch=', epoch, 'Training Loss=', epoch_loss, 'Val loss=', val_loss, 'Val_accuracy=', val_accu\n",
    "        \n",
    "        \n",
    "    return train_loss, validation_loss, best_accu_epoch"
   ]
  },
  {
   "cell_type": "code",
   "execution_count": 38,
   "metadata": {},
   "outputs": [],
   "source": [
    "args = {\n",
    "        'lr': 0.001,\n",
    "        'epochs': 50,\n",
    "        'batch_size': 20\n",
    "    }\n",
    "overfit_model = LinzenLSTM(embedding_dim=50, hidden_dim=50, dataset=baby_dataset)   #dataset"
   ]
  },
  {
   "cell_type": "code",
   "execution_count": 39,
   "metadata": {},
   "outputs": [
    {
     "name": "stdout",
     "output_type": "stream",
     "text": [
      "epoch= 0 Training Loss= 0.7087302803993225 Val loss= 0.7003713 Val_accuracy= 0.42\n",
      "epoch= 7 Training Loss= 0.6056385695934295 Val loss= 0.82651895 Val_accuracy= 0.57\n",
      "epoch= 14 Training Loss= 0.5129803359508515 Val loss= 0.77102935 Val_accuracy= 0.58\n",
      "epoch= 21 Training Loss= 0.6151915490627289 Val loss= 0.69230515 Val_accuracy= 0.65\n",
      "epoch= 28 Training Loss= 0.5265212237834931 Val loss= 0.7781054 Val_accuracy= 0.53\n",
      "epoch= 35 Training Loss= 0.3025146394968033 Val loss= 0.950897 Val_accuracy= 0.58\n",
      "epoch= 42 Training Loss= 0.37516801357269286 Val loss= 0.9516104 Val_accuracy= 0.53\n",
      "epoch= 49 Training Loss= 0.23143481612205505 Val loss= 1.1290973 Val_accuracy= 0.62\n"
     ]
    }
   ],
   "source": [
    "train_loss, val_loss, val_accuracy = train(baby_dataset, overfit_model, args, early_stopping=False)"
   ]
  },
  {
   "cell_type": "code",
   "execution_count": 31,
   "metadata": {},
   "outputs": [],
   "source": [
    "from matplotlib import pyplot\n",
    "def plot_losses(loss, val_loss):\n",
    "    fig = pyplot.figure()\n",
    "    pyplot.plot(loss)\n",
    "    pyplot.plot(val_loss)\n",
    "    pyplot.show()\n",
    "    "
   ]
  },
  {
   "cell_type": "code",
   "execution_count": 40,
   "metadata": {},
   "outputs": [
    {
     "data": {
      "image/png": "[encoded data removed]",
      "text/plain": [
       "<matplotlib.figure.Figure at 0x7fe570499310>"
      ]
     },
     "metadata": {},
     "output_type": "display_data"
    }
   ],
   "source": [
    "plot_losses(train_loss, val_loss)"
   ]
  },
  {
   "cell_type": "code",
   "execution_count": 13,
   "metadata": {},
   "outputs": [],
   "source": [
    "dataset = SVAgreementCorpus()"
   ]
  },
  {
   "cell_type": "code",
   "execution_count": 94,
   "metadata": {},
   "outputs": [
    {
     "name": "stdout",
     "output_type": "stream",
     "text": [
      "epoch= 0 Training Loss= 0.6370767169387628 Val loss= 0.6421433 Val_accuracy= 0.6712243629583592\n",
      "epoch= 7 Training Loss= 0.05381392318390455 Val loss= 0.25615954 Val_accuracy= 0.911124922311995\n",
      "epoch= 0 Training Loss= 0.6282276061409754 Val loss= 0.6358129 Val_accuracy= 0.6724673710379118\n",
      "epoch= 7 Training Loss= 0.04811267036142105 Val loss= 0.34138116 Val_accuracy= 0.9049098819142325\n",
      "epoch= 0 Training Loss= 0.6329175602882466 Val loss= 0.63597697 Val_accuracy= 0.6805469235550031\n",
      "epoch= 0 Training Loss= 0.6261977262530767 Val loss= 0.63235706 Val_accuracy= 0.6494717215661902\n",
      "epoch= 7 Training Loss= 0.574334328732592 Val loss= 0.5340393 Val_accuracy= 0.7650714729645742\n"
     ]
    }
   ],
   "source": [
    "lrs = [0.01, 0.003, 0.001, 0.0003]\n",
    "\n",
    "args = {\n",
    "    'lr': 0.001,\n",
    "    'epochs': 50,\n",
    "    'batch_size': 20\n",
    "}\n",
    "\n",
    "best_args = {\n",
    "    'lr': None,\n",
    "    'epochs': None\n",
    "}\n",
    "\n",
    "accuies = []\n",
    "max_accu = 0\n",
    "for lr in lrs:\n",
    "    args['lr'] = lr\n",
    "    model = LinzenLSTM(embedding_dim=50, hidden_dim=50, dataset=baby_dataset)   #dataset\n",
    "    train_loss, val_loss, val_accu_epoch = train(dataset, model, args)\n",
    "    accu, epoch = val_accu_epoch\n",
    "    \n",
    "    accuies.append(accu)\n",
    "    if accu > max_accu:\n",
    "        best_args['lr'] = lr\n",
    "        best_args['epochs'] = epoch\n",
    "    "
   ]
  },
  {
   "cell_type": "code",
   "execution_count": 97,
   "metadata": {},
   "outputs": [
    {
     "data": {
      "text/plain": [
       "[<matplotlib.lines.Line2D at 0x7f3b8fa8de10>]"
      ]
     },
     "execution_count": 97,
     "metadata": {},
     "output_type": "execute_result"
    },
    {
     "data": {
      "image/png": "[encoded data removed]",
      "text/plain": [
       "<matplotlib.figure.Figure at 0x7f3b8faaa2d0>"
      ]
     },
     "metadata": {},
     "output_type": "display_data"
    }
   ],
   "source": [
    "pyplot.plot(lrs, accuies, 'ro')"
   ]
  },
  {
   "cell_type": "code",
   "execution_count": 4,
   "metadata": {},
   "outputs": [],
   "source": [
    "best_model = torch.load('./save/'+'0.0003.pt')"
   ]
  },
  {
   "cell_type": "code",
   "execution_count": 10,
   "metadata": {},
   "outputs": [
    {
     "name": "stdout",
     "output_type": "stream",
     "text": [
      "{'epochs': 11, 'lr': 0.003}\n"
     ]
    }
   ],
   "source": [
    "print best_args"
   ]
  },
  {
   "cell_type": "code",
   "execution_count": 41,
   "metadata": {},
   "outputs": [
    {
     "name": "stdout",
     "output_type": "stream",
     "text": [
      "0.59\n"
     ]
    }
   ],
   "source": [
    "print accuracy(baby_dataset, overfit_model, 'val')"
   ]
  },
  {
   "cell_type": "code",
   "execution_count": 47,
   "metadata": {},
   "outputs": [],
   "source": [
    "args = {\n",
    "        'lr': 0.003,\n",
    "        'epochs': 11,\n",
    "        'batch_size': 20\n",
    "    }\n",
    "again_model = LinzenLSTM(embedding_dim=50, hidden_dim=50, dataset=dataset)   "
   ]
  },
  {
   "cell_type": "code",
   "execution_count": 48,
   "metadata": {},
   "outputs": [
    {
     "name": "stdout",
     "output_type": "stream",
     "text": [
      "epoch= 0 Training Loss= 0.4266413403518873 Val loss= 0.4561704 Val_accuracy= 0.8309948979591837\n",
      "epoch= 7 Training Loss= 0.21431479497562947 Val loss= 0.2642319 Val_accuracy= 0.9113520408163265\n"
     ]
    }
   ],
   "source": [
    "train_loss, val_loss, val_accuracy = train(dataset, again_model, args, early_stopping=False)"
   ]
  },
  {
   "cell_type": "code",
   "execution_count": 51,
   "metadata": {},
   "outputs": [
    {
     "data": {
      "image/png": "[encoded data removed]",
      "text/plain": [
       "<matplotlib.figure.Figure at 0x7fe570347f10>"
      ]
     },
     "metadata": {},
     "output_type": "display_data"
    }
   ],
   "source": [
    "pyplot.plot(train_loss)\n",
    "pyplot.plot(val_loss)\n",
    "pyplot.show()"
   ]
  },
  {
   "cell_type": "code",
   "execution_count": 52,
   "metadata": {},
   "outputs": [
    {
     "name": "stdout",
     "output_type": "stream",
     "text": [
      "0.9253826530612245\n"
     ]
    }
   ],
   "source": [
    "print accuracy(dataset, again_model, 'val')"
   ]
  },
  {
   "cell_type": "code",
   "execution_count": 53,
   "metadata": {},
   "outputs": [
    {
     "name": "stdout",
     "output_type": "stream",
     "text": [
      "[0.4266413403518873, 0.4497224258560708, 0.4059518188363014, 0.42665023553346454, 0.3992442810418885, 0.3834650787790228, 0.45268846244951866, 0.21431479497562947, 0.10704819751089158, 0.05913439380938601, 0.04341629295048627]\n"
     ]
    }
   ],
   "source": [
    "print train_loss\n"
   ]
  },
  {
   "cell_type": "code",
   "execution_count": 84,
   "metadata": {},
   "outputs": [],
   "source": [
    "def read_val_file(file_name, dataset, read_less=False, lines=-1):\n",
    "    raw_data = read_tsv(file_name, read_less=read_less, readlines=lines)\n",
    "\n",
    "    data = []\n",
    "    for target, sent in raw_data:\n",
    "        tokens = sent.split(' ')\n",
    "        encoded_sent = [dataset.word_to_idx[token] if token in dataset.word_to_idx else dataset.word_to_idx[u'OOV'] for token in tokens]\n",
    "        data.append((encoded_sent, target, sent))\n",
    "    data = np.array(data)\n",
    "    \n",
    "    return data"
   ]
  },
  {
   "cell_type": "code",
   "execution_count": 108,
   "metadata": {},
   "outputs": [],
   "source": [
    "def test_accuracy(data, model, show_sents=False):\n",
    "    model.train(mode=False)\n",
    "    X, y, sents, lengths = dataset.get_batch(data, size=len(data))\n",
    "        \n",
    "    X = Variable(torch.LongTensor(X), requires_grad=False)  # N x max_len\n",
    "    y = Variable(torch.LongTensor(y.astype(int)), requires_grad=False)\n",
    "\n",
    "    y_pred = model.forward(X, lengths)\n",
    "    \n",
    "    _, pred = torch.max(y_pred, 1)\n",
    "    accurate = (pred==y)\n",
    "    \n",
    "    if show_sents:\n",
    "        cnt = 0\n",
    "        for idx, pred in enumerate(accurate):\n",
    "            if cnt > 40:\n",
    "                break\n",
    "            if pred.data.numpy()[0] == 0:\n",
    "                cnt += 1\n",
    "                print sents[idx]\n",
    "    \n",
    "    return accurate.data.numpy().mean()"
   ]
  },
  {
   "cell_type": "code",
   "execution_count": 111,
   "metadata": {},
   "outputs": [
    {
     "name": "stdout",
     "output_type": "stream",
     "text": [
      "['usually , but not always , a private values model assumes that the values are independent across NNS , whereas a common value model usually assumes that the values']\n",
      "['usually , but not always , a private values model assumes that the values are independent across NNS , whereas a common value model usually assumes that the values']\n",
      "['it should also be noted that virtually nothing posted to a web forum is going to be considered useful here , since with very rare exceptions a web forum']\n",
      "[\"NNP explorer is similar in many ways to NNP 's internet software , as NNP has an email client built in and both programs\"]\n",
      "['in one of the meeting rooms on the eighth level ( the assembly hall - see below ) , the NNS alone']\n",
      "['in one of the meeting rooms on the eighth level ( the assembly hall - see below ) , the NNS alone']\n",
      "['in june 2007 , NNP held a public wedding ceremony in NNP with her partner NNP NNP , although same-sex marriages']\n",
      "['NNP chan has been sometimes VBN a NN , often by his political opponents , although the general perception on taiwan']\n",
      "['there is , however , no sign that any such system was in fact used at athens , where the calendar']\n",
      "['NNP chan has been sometimes VBN a NN , often by his political opponents , although the general perception on taiwan']\n",
      "['port st mary became a village district for local government purposes in 1890 , for which port st mary commissioners']\n",
      "['most of these NNS are charged with crimes such as statutory rape for JJ sexual contact as the victims']\n",
      "['most of these NNS are charged with crimes such as statutory rape for JJ sexual contact as the victims']\n",
      "['most of these NNS are charged with crimes such as statutory rape for JJ sexual contact as the victims']\n",
      "['NNP has large NNS surrounded by equally large NNS and river plains ; its only notable NN feature']\n",
      "['JJ communications NNS usually have a yellow NN VBD on the front panel to indicate that the receiver']\n",
      "['in the next few years several other NNS were discovered , of which the most important example']\n",
      "['in the next few years several other NNS were discovered , of which the most important example']\n",
      "['all of the articles listed here have been tagged for deletion , and their deletion debates']\n",
      "['all of the articles listed here have been tagged for deletion , and their deletion debates']\n",
      "['holders of a current australian permanent residence NNP ( which includes a resident return NNP )']\n",
      "['NNP , who finds himself in the JJ situation of repeating his NN , quickly gains']\n",
      "['holders of a current australian permanent residence NNP ( which includes a resident return NNP )']\n",
      "['NNP , who finds himself in the JJ situation of repeating his NN , quickly gains']\n",
      "['NNP , who finds himself in the JJ situation of repeating his NN , quickly gains']\n",
      "['the national credit union foundation VBZ in a variety of activities to help credit unions']\n",
      "[\"i certainly do n't need you to explain why you think that any negative quotes\"]\n",
      "[\"come dawn the next day , the NNP approach the NNP that the humans '\"]\n",
      "['the national credit union foundation VBZ in a variety of activities to help credit unions']\n",
      "[\"i certainly do n't need you to explain why you think that any negative quotes\"]\n",
      "['NNP believed that `` social groups create NN by making the rules whose NN']\n",
      "['starting with JJ contests in the early months of the year , contestants']\n",
      "['keep - no reason to have an article on it , but tone']\n",
      "['starting with JJ contests in the early months of the year , contestants']\n",
      "['i think also you VBP the role of admins on wikipedia - admins']\n",
      "['i think the NNP link , which had been in since 2007 ,']\n",
      "['keep - no reason to have an article on it , but tone']\n",
      "['also the eastern european countries that have recently entered into the eu']\n",
      "['however , the environmental impact report itself is only one factor officials']\n",
      "[\"for applications to degree programs , the NNS ' previous academic record\"]\n",
      "['burns in the discharge of his JJ duties that his colleagues']\n",
      "0.9265\n",
      "['those who know persian , can readily VB that NNP ensemble has almost VBN the art of NNP NNP ( i have described this term in the main text of NNP ensemble ) ; the poems accompanying the music of NNP ensemble']\n",
      "['those who know persian , can readily VB that NNP ensemble has almost VBN the art of NNP NNP ( i have described this term in the main text of NNP ensemble ) ; the poems accompanying the music of NNP ensemble']\n",
      "['those who know persian , can readily VB that NNP ensemble has almost VBN the art of NNP NNP ( i have described this term in the main text of NNP ensemble ) ; the poems accompanying the music of NNP ensemble']\n",
      "['NNP , , sometimes also VBN as NN ( from close , JJ , VBN , VBN ; ) in the music theory of NNP is a structural property of any NN in which a composite of two smaller intervals']\n",
      "['NNP , , sometimes also VBN as NN ( from close , JJ , VBN , VBN ; ) in the music theory of NNP is a structural property of any NN in which a composite of two smaller intervals']\n",
      "[\"though howard died in 1936 , before NN was defined , it was VBN in the united states by NNP NNP 's being and NNP ( 1943 ) , his philosophy , as shown through his works ,\"]\n",
      "[\"though howard died in 1936 , before NN was defined , it was VBN in the united states by NNP NNP 's being and NNP ( 1943 ) , his philosophy , as shown through his works ,\"]\n",
      "[\"though howard died in 1936 , before NN was defined , it was VBN in the united states by NNP NNP 's being and NNP ( 1943 ) , his philosophy , as shown through his works ,\"]\n",
      "[\"though howard died in 1936 , before NN was defined , it was VBN in the united states by NNP NNP 's being and NNP ( 1943 ) , his philosophy , as shown through his works ,\"]\n",
      "['this can be done only if ( a ) those who are RB VBN combine and help one another ( b ) there is some sort of trust system so that experts in one area']\n",
      "[\"i 've tried to establish a discussion on the talkpage in order to VB some input from both sides , unfortunately , the editors who want to leave out controversial information\"]\n",
      "[\"i 've tried to establish a discussion on the talkpage in order to VB some input from both sides , unfortunately , the editors who want to leave out controversial information\"]\n",
      "['weight loss is about the strange life ( from age 11 to age 37 ) of a sexual NN named NNP , whose attitude to most of the people around him']\n",
      "[\"i 've tried to establish a discussion on the talkpage in order to VB some input from both sides , unfortunately , the editors who want to leave out controversial information\"]\n",
      "['your circular reasoning is that the gng is incorrect , because the NNP will lead to VB articles , and the fact that these articles would be deleted under the gng']\n",
      "[\"i 've tried to establish a discussion on the talkpage in order to VB some input from both sides , unfortunately , the editors who want to leave out controversial information\"]\n",
      "['weight loss is about the strange life ( from age 11 to age 37 ) of a sexual NN named NNP , whose attitude to most of the people around him']\n",
      "['the swiss , renowned for their vision and pioneering spirit , recognized its benefits and soon employed RB cast pipes for VBG water - the pipes laid at that time']\n",
      "['the death of his mother VBZ him out of his bed and into life , and while his friendship with death , who is having issues of his own ,']\n",
      "['the death of his mother VBZ him out of his bed and into life , and while his friendship with death , who is having issues of his own ,']\n",
      "['i know that it is best for humans to work on each article individually and create them like that but the massive amount missing on what are notable places']\n",
      "['i know that it is best for humans to work on each article individually and create them like that but the massive amount missing on what are notable places']\n",
      "['before , and if you look above your comment you will see that even the editor who has worked on trying to improve many of these articles ( and']\n",
      "[\"commons is n't helped in any way by deleting the image from wikipedia , so the effort we put into deleting images that have been moved to commons\"]\n",
      "[\"NNP p ) is a NN in classical logic , so every assertion that is made about `` two NNS , neither of which implies the other ''\"]\n",
      "['in ohio , any municipality with 5 , 000 or more people at the latest JJ census is a city , and any municipality with fewer people']\n",
      "['i have RB been doing small NNS in efforts to build my NN but i do know that the first thing people are going to do']\n",
      "['i have RB been doing small NNS in efforts to build my NN but i do know that the first thing people are going to do']\n",
      "['still , it seems dragons flight had to add that for you , so apparently you still think any edit that adds more than eight links']\n",
      "['i have RB been doing small NNS in efforts to build my NN but i do know that the first thing people are going to do']\n",
      "['i have RB been doing small NNS in efforts to build my NN but i do know that the first thing people are going to do']\n",
      "['criticism of the NN as an industry has been frequent inside and outside the fashion press , from complaints that women VBG this status']\n",
      "['as the proceedings are actually a case in the court of summary jurisdiction , all the usual appeal processes that apply in that court']\n",
      "['as the proceedings are actually a case in the court of summary jurisdiction , all the usual appeal processes that apply in that court']\n",
      "['the organization , which celebrated its silver jubilee in 2008 , VBZ an NN that states that the victims of JJ NN in india']\n",
      "[\"i do n't see how adding classes and NNS VBZ the basic problem that these things that should be grouped as a single list\"]\n",
      "['as the proceedings are actually a case in the court of summary jurisdiction , all the usual appeal processes that apply in that court']\n",
      "[\"NNP 's lawyer and mp for the NNP , NNP NNP said that `` the statements given by NNP about prime minister NNP\"]\n",
      "['while this form of NN does not cause the NN associated with the JJ products , the evidence that it has JJ functions']\n",
      "['in the middle of the spectrum ( where i happen to be ) , the ability to VB that there are other people']\n",
      "['in the middle of the spectrum ( where i happen to be ) , the ability to VB that there are other people']\n",
      "0.7485\n"
     ]
    },
    {
     "name": "stdout",
     "output_type": "stream",
     "text": [
      "[\"in medieval times , members of the NN were territorial NNS in counties NNP and NNP , and two places called NNP , ( from `` NN '' , a settlement ) , one in county NNP and the other in county NNP , further\"]\n",
      "[\"i do have skill and knowledge in various areas including wp editing but have n't judged whether NNP 's skill or knowledge is similar to mine , although NNP 's views in the area of the JJ disagreement with NNP\"]\n",
      "[\"i do have skill and knowledge in various areas including wp editing but have n't judged whether NNP 's skill or knowledge is similar to mine , although NNP 's views in the area of the JJ disagreement with NNP\"]\n",
      "[\"i do have skill and knowledge in various areas including wp editing but have n't judged whether NNP 's skill or knowledge is similar to mine , although NNP 's views in the area of the JJ disagreement with NNP\"]\n",
      "[\"it shows that the field of NNP 's electricity and the field of NNP 's NN are distinct ; although both make different assumptions about physical reality , NNP suggests that the assumptions of either conception of the field still\"]\n",
      "['i suspect whatever it is you are looking for ( NN , whatever ) is covered in scientific method , even though the idea of there being a defined five steps that are actually used by practicing scientists']\n",
      "['lucy NNP , a vice president of electronic arts , attributes the popularity among girls to the NN of the site and said , `` games that have a tendency to satisfy on more than one dimension']\n",
      "['the NNP unified school district provides JJ education to NNP and the lake NNP area with nine traditional schools , of which two elementary schools , a middle school , elementary school and NNP high school']\n",
      "['the NNP unified school district provides JJ education to NNP and the lake NNP area with nine traditional schools , of which two elementary schools , a middle school , elementary school and NNP high school']\n",
      "['my two NNS is that it should fail , first , because all edits to wikipedia must be made by consensus if challenged and , second , because the letter of policies and guidelines']\n",
      "[\"in the three songs in the NNP ' section , NNS ' links to a NN link , ( which it is n't listed in ) , light at days end and souls NNP\"]\n",
      "['education in india VBZ VBP learning , NN is a norm in student work and professors VBP it , and many indian students who learn in english as a primary language of instruction']\n",
      "['some JJ programs , such as NNS , NNS and NN software , can benefit greatly from JJ NNS , while the performance of other programs , such as 3d JJ ones ,']\n",
      "[\"this section mentions their polar music prize , their grammy lifetime achievement award and their NN into the uk music hall of fame , however ; the section `` awards and NNS ''\"]\n",
      "[\"this section mentions their polar music prize , their grammy lifetime achievement award and their NN into the uk music hall of fame , however ; the section `` awards and NNS ''\"]\n",
      "['education in india VBZ VBP learning , NN is a norm in student work and professors VBP it , and many indian students who learn in english as a primary language of instruction']\n",
      "['education in india VBZ VBP learning , NN is a norm in student work and professors VBP it , and many indian students who learn in english as a primary language of instruction']\n",
      "[\"the name NN was derived from the latin NN , meaning `` NN '' , which is the botanical term describing a leaf base where the two sides of the leaf blade\"]\n",
      "[\"the name NN was derived from the latin NN , meaning `` NN '' , which is the botanical term describing a leaf base where the two sides of the leaf blade\"]\n",
      "[\"i too find it a little difficult to VB what it is that you are looking for , and i do not believe that the division between NNS ' and NNS '\"]\n",
      "['JJ cables , arranged in two planes in a JJ configuration , support the JJ main span , while another JJ cables arranged in a single plane with a JJ configuration']\n",
      "['in addition , areas in texas that are slightly inland from the gulf of mexico , such as austin and san antonio that border the JJ climate zone , generally']\n",
      "['NNS mountains to the south and west , the NNP NNP , which includes NNP lake , and the NNP and ruby range to the east and north , which']\n",
      "['on the other hand when we lived without technology we apparently had major ecological impacts ( the death of native species in the americas and australia upon our early NNS']\n",
      "['on the other hand when we lived without technology we apparently had major ecological impacts ( the death of native species in the americas and australia upon our early NNS']\n",
      "['NNS mountains to the south and west , the NNP NNP , which includes NNP lake , and the NNP and ruby range to the east and north , which']\n",
      "['a study released by NNP alaska on february 22 , 2012 showed that the NNP selection of the largest trees in areas designated in s CD and NNP CD']\n",
      "[\"given that the NNP page has been protected for several days , i ca n't see how this block of NNP , for actions he took several days ago\"]\n",
      "['the external links in an article are supposed to provide further information on the subject , and in general only the links which support the information in the article']\n",
      "['the areas of the world in which there is the greatest linguistic diversity , such as the americas , papua new guinea , west africa , and NNP ,']\n",
      "['it really only adds about 5 or 6 words , and the other two sources you use in that same sentence - village voice and the boston globe']\n",
      "['the only other thing i can think of that may be causing problems is the fact that nearly all coordinates ( as well as the font size )']\n",
      "[\"i think all professional models who were on the cover of sports illustrated NNP issue , any major NNP cover or in the victoria 's secret fashion show\"]\n",
      "['it really only adds about 5 or 6 words , and the other two sources you use in that same sentence - village voice and the boston globe']\n",
      "['around the middle of the video , the two stars of the new dance film , step up , NNP NNP , NNP NNP , drew NNP']\n",
      "['JJ , two events that differ only in their NNP r coordinate are JJ separated , and two events that differ only in their NNP t coordinate']\n",
      "['JJ , two events that differ only in their NNP r coordinate are JJ separated , and two events that differ only in their NNP t coordinate']\n",
      "['in one study conducted by NNP NNP and NNP NNP from NNP university of japan , it has been observed that patients suffering from this taste disorder']\n",
      "['around the middle of the video , the two stars of the new dance film , step up , NNP NNP , NNP NNP , drew NNP']\n",
      "['work on the theory of JJ suggests that an effective tool for making progress is to ensure that participants in a group with a common goal']\n",
      "['his most notable athlete , jennifer NNP has set the american pole vault record 10 times and won the us national championships 13 different times and']\n",
      "0.557\n"
     ]
    }
   ],
   "source": [
    "attractor_accu = []\n",
    "for k in range(3):\n",
    "    filename = './rnn_agr_simple/' + 'numpred.test.' + str(k)\n",
    "    data = read_val_file(filename, dataset, read_less=True, lines=2000)\n",
    "    att_acc = test_accuracy(data, again_model, show_sents=True)\n",
    "    print att_acc\n",
    "    attractor_accu.append(att_acc)\n",
    "    "
   ]
  },
  {
   "cell_type": "code",
   "execution_count": 86,
   "metadata": {},
   "outputs": [
    {
     "name": "stdout",
     "output_type": "stream",
     "text": [
      "0.3333333333333333\n",
      "0.2578616352201258\n"
     ]
    }
   ],
   "source": [
    "for k in [4, 5]:\n",
    "    filename = './rnn_agr_simple/' + 'numpred.test.' + str(k)\n",
    "    data = read_val_file(filename, dataset)\n",
    "    att_acc = test_accuracy(data, again_model)\n",
    "    print att_acc\n",
    "    attractor_accu.append(att_acc)"
   ]
  },
  {
   "cell_type": "code",
   "execution_count": 87,
   "metadata": {},
   "outputs": [
    {
     "name": "stdout",
     "output_type": "stream",
     "text": [
      "[0.92, 0.7615, 0.5765, 0.3333333333333333, 0.2578616352201258]\n"
     ]
    }
   ],
   "source": [
    "print attractor_accu\n"
   ]
  },
  {
   "cell_type": "code",
   "execution_count": 94,
   "metadata": {},
   "outputs": [
    {
     "data": {
      "image/png": "[encoded data removed]",
      "text/plain": [
       "<matplotlib.figure.Figure at 0x7fe555bc7810>"
      ]
     },
     "metadata": {},
     "output_type": "display_data"
    }
   ],
   "source": [
    "err = [ ]\n",
    "for acc in attractor_accu:\n",
    "    err.append(1-acc)\n",
    "pyplot.plot(err)\n",
    "pyplot.show()\n"
   ]
  },
  {
   "cell_type": "code",
   "execution_count": 109,
   "metadata": {},
   "outputs": [
    {
     "name": "stdout",
     "output_type": "stream",
     "text": [
      "['square NNS with a brief but JJ ( given the reference section ) citation after the relevant NN or NN']\n",
      "['the main external cooperation partners that provide support to the JJ government for water supply and NN']\n",
      "['these NNS of human excellence , including love for the truth , courage , and NN ,']\n",
      "['JJ JJ forms ( such as that of the symphony , concerto , opera or NN , for example ) usually']\n",
      "['the final chapters , on the NNP public housing NN case and the NN of public housing ,']\n",
      "['WRB NN can apply certain relationships itself ; for example , if the values of the subject property of a picture and the name property of a contact']\n",
      "['several artifacts taken from the work house , including the door of a jail cell and the old prison register ,']\n",
      "['the best solution with locally significant facilities ( be they churches , sports NNS , parks , etc )']\n",
      "['similarly , the grades in a high school chemistry ( including lab work ) course']\n",
      "['each NN a board of professors , students , administrators and media professionals']\n",
      "['players who are active in rugby union at club level , but not at international level ,']\n",
      "['similarly , the grades in a high school chemistry ( including lab work ) course']\n",
      "['the changes in law enforcement and the ability of a government to effectively police the population']\n",
      "['WRB NN can apply certain relationships itself ; for example , if the values of the subject property of a picture and the name property of a contact']\n",
      "['two NNS , part of a tributary system of honey creek , with a NN and an NN dam between them ,']\n",
      "['since human rights violations during the military regime VBD to a state policy , the number of people involved in these acts as authors , NNS or NNS ,']\n",
      "['the press reports of the wedding of the press agent for the NNP defense to a boston blue blood']\n",
      "['at present , large scale tests of NN as a tool for supporting NN and software development']\n",
      "['JJ JJ forms ( such as that of the symphony , concerto , opera or NN , for example ) usually']\n",
      "[\"the NN NN , JJ NN , VBG , JJ NN and pacific golden NN , considered species of least concern , except for the JJ NN which is considered `` vulnerable '' on the national conservation priority scheme ,\"]\n",
      "['these NNS for the acts roller container transport system with horizontal NN']\n",
      "['the ruins of the ancient town NNP , the log cabin church in the village NNP and NNP monastery']\n",
      "['the two items that NNP tagged as questionable , the NNP the bold quote about the NNP grape and the statement about the NN of the arrival of NNP NNP']\n",
      "['JJ trees , including red , white , and jack pine , white NN and NN NN']\n",
      "[\"pakistan 's health NNS , health funding , and health and NN infrastructure\"]\n",
      "['traits such as body size , NN size , and JJ length']\n",
      "['in the context of medical or scientific studies , subjects undergoing JJ testing , such as the effect of a certain drug on behaviour or cognitive ability ,']\n",
      "['the four theatrical pieces -- NNP o NN NN , NNP NN , NNP de NNP , and a NN NN --']\n",
      "['the three major content policies ( verifiability , no original research and a neutral point of view ) and notability']\n",
      "[\"i would like comments on anything that can be improved , but especially comments regarding the lead and the `` note system '' at the bottom of the page\"]\n",
      "['the press reports of the wedding of the press agent for the NNP defense to a boston blue blood']\n",
      "['the similarities of conversation theory and text and conversation theory']\n",
      "['in the context of medical or scientific studies , subjects undergoing JJ testing , such as the effect of a certain drug on behaviour or cognitive ability ,']\n",
      "['the authors of a 2009 NN on cycle infrastructure safety research at the university of british columbia similarly']\n",
      "['NNP guides who are JJ , working on their own account with their own marketing and NN ( in contrast with those who work for an employer ) sometimes']\n",
      "['traditional instruments for playing the NNP , a finnish traditional music genre and dance , also described as folk dance ,']\n",
      "[\"less JJ stories of NNP 's attachment , NN and eventual NN of a young woman 's fortune also\"]\n",
      "[\"i would like comments on anything that can be improved , but especially comments regarding the lead and the `` note system '' at the bottom of the page\"]\n",
      "['machines that combine force variation measurement with dynamic balance measurement']\n",
      "['NNP guides who are JJ , working on their own account with their own marketing and NN ( in contrast with those who work for an employer ) sometimes']\n",
      "['changes in the NN that allow JJ cell NN or cell NN']\n"
     ]
    },
    {
     "data": {
      "text/plain": [
       "0.31446540880503143"
      ]
     },
     "execution_count": 109,
     "metadata": {},
     "output_type": "execute_result"
    }
   ],
   "source": [
    "test_accuracy(data, again_model, show_sents=True)"
   ]
  },
  {
   "cell_type": "code",
   "execution_count": 112,
   "metadata": {},
   "outputs": [
    {
     "name": "stdout",
     "output_type": "stream",
     "text": [
      "['writings', 'yellow', 'four', 'woods', 'hanging', 'cyprus', 'increase', 'eligible', 'electricity', 'hermann', 'lord', 'sinking', 'saskatchewan', 'regional', 'fur', 'bringing', 'scholar', 'wooden', 'succession', 'south-west', 'commented', 'charter', 'tired', 'miller', 'pulse', 'second', 'errors', 'thunder', 'cooking', 'contributed', 'fingers', 'fossil', 'increasing', 'specialist', 'hero', 'reporter', 'herb', 'error', 'here', 'atoms', 'reported', 'china', 'cult', 'affiliated', 'kids', 'k', 'reports', 'controversy', 'military', 'criticism', 'golden', 'projection', 'classification', 'explained', 'norse', 'replace', 'brought', 'stern', 'unit', 'opponents', 'dna', 'occupying', 'symphony', 'music', 'therefore', 'passport', 'strike', 'until', 'females', 'relay', 'populations', 'successful', 'binding', 'glass', '91', '90', 'hole', 'hold', '97', 'circumstances', 'wikiproject', 'locked', 'famed', 'blade', 'temperatures', 'concepts', 'admits', 'example', 'wang', 'household', 'artillery', 'organized', 'dragons', 'currency', 'reviewing', 'want', 'absolute', 'provincial', 'travel', 'damage', 'machine', 'how', 'hot', 'hop', 'significance', 'void', 'gaming', 'funny', 'diagram', 'wrong', 'nonprofit', 'types', 'effective', 'helsinki', 'wins', 'revolt', 'headquarters', 'fictional', 'childhood', 'keeps', 'democratic', 'wing', 'wind', 'wine', 'restriction', 'feedback', 'vary', 'journals', 'fit', 'rankings', 'stevens', 'survivors', 'nobles', 'fin', 'easier', 'songwriter', 'slate', 'effects', 'schools', 'township', 'silver', 'prize', 'represents', 'debut', 'armoured', 'crops', 'arrow', 'commissioners', 'preceded', 'financial', 'snakes', 'knockout', 'series', 'spider', 'commons', 'substantially', 'laboratory', 'message', 'rs', 're', 'unrelated', 'foundation', 'threatened', 'necessarily', 'enhance', 'checked', 'estimate', 'gameplay', 'competes', 'kashmir', 'musicians', 'speedy', 'competed', 'atp', '1970s', 'speeds', 'channels', 'spinning', 'basketball', 'service', 'similarly', 'needed', 'master', 'listed', 'legs', 'genesis', 'collapse', 'wisdom', 'ahmed', 'showed', 'tree', 'nations', 'project', 'seminary', 'feeling', 'acquisition', 'acclaim', 'runner', 'boston', 'spectrum', 'dozen', 'affairs', 'hub', 'person', 'responsible', 'recommended', 'doors', 'shall', 'object', 'wells', 'victoria', 'landmark', 'mouth', 'letter', 'entry', 'singer', 'episode', 'grove', 'professor', 'camp', 'tech', 'came', 'marvel', 'saying', 'bomb', 'reactor', 'insects', 'meetings', 'nominated', 'prix', 'gauge', 'participate', 'hungary', 'eliminated', 'lessons', 'orleans', 'busy', 'layout', 'menu', 'rico', 'theme', 'rich', 'rice', 'psychiatric', 'foremost', 'pocket', 'net', 'societies', 'patch', 'release', 'respond', 'disaster', 'fair', 'radius', 'result', 'fail', 'hammer', 'best', 'lots', 'wikipedia', 'pressures', 'score', 'ira', 'irc', 'pirate', 'preserve', 'never', 'nationwide', 'nature', 'rolled', 'extent', 'carbon', 'debt', 'roller', 'country', 'readers', 'heating', 'edgar', 'estates', 'logic', 'argue', 'adapted', 'asked', '2nd', 'canyon', 'pregnancy', 'diff', 'contestants', 'lighthouse', 'investors', 'union', 'extraction', 'much', 'interpret', 'stadium', 'privilege', 'tallest', 'life', 'homeland', 'eastern', 'worker', 'irving', 'dave', 'substance', 'chile', 'child', 'worked', 'spin', 'presidency', 'administrative', 'employ', 'calcium', 'elaborate', 'played', 'player', 'eighteen', 'madonna', 'drv', 'memorial', 'things', 'format', 'damages', 'european', 'templates', 'fairly', 'qualifications', 'marched', 'ownership', 'pioneers', 'tune', 'lucas', 'academic', 'corporate', 'plaque', 'opinions', 'capitol', 'birmingham', 'rushing', 'previous', 'enters', 'hal', 'sciences', 'ease', 'had', 'emphasis', 'collections', 'easy', 'prison', 'east', 'elevation', 'municipal', 'survival', 'disagreement', 'possible', 'possibly', 'birth', 'shadow', 'unique', 'desire', 'psychological', 'bobby', 'alice', 'steps', 'battlefield', 'attorney', 'right', 'old', 'creek', 'crowd', 'people', 'czech', 'crown', 'santiago', 'captive', 'warring', 'enemies', 'consensus', 'for', 'bottom', 'fox', 'creative', 'contributing', 'individuals', 'exposition', 'tertiary', 'dental', 'defensive', 'alexandra', 'manufacturing', 'filipino', 'dollars', 'citizens', 'o', 'slightly', 'raised', 'statements', 'facility', 'marshall', 'son', 'google', 'magazines', 'raises', 'sox', 'shoots', 'reducing', 'fabric', 'support', 'constantly', 'width', 'joseph', 'authorized', 'jane', 'halls', 'happy', 'manufacturers', 'tigers', 'talents', 'robertson', 'duel', 'inside', 'devices', 'unanimous', 'duet', 'panels', 'passenger', 'juvenile', 'later', 'liberal', 'tournament', 'proven', \"''\", 'proves', 'exist', 'accounting', 'dealer', 'negotiations', 'posting', 'holy', 'floor', 'glacier', 'verifiability', 'flood', 'republic', 'jenkins', 'developers', 'roll', \"'s\", 'models', \"'d\", 'intent', 'rolling', \"'m\", 'time', 'push', 'detective', 'irrigation', 'corps', 'reviewers', 'activated', 'theaters', 'chair', 'venice', 'aligned', 'crater', 'oversight', 'choice', 'exact', 'minute', 'room', 'judaism', 'leave', 'solved', 'subway', 'team', 'loads', 'prevent', 'spiritual', 'occurrence', 'findings', 'trails', 'sign', 'heavyweight', 'realizing', 'current', 'remembered', 'falling', 'geography', 'badge', 'jury', 'funeral', 'understanding', 'yards', 'address', 'alone', 'along', 'passengers', 'brilliant', 'studied', 'funded', 'commonly', 'studies', 'tasks', 'love', 'proportion', 'prefer', 'logical', 'ips', 'carol', 'red', 'working', 'positive', 'papal', 'explicitly', 'opposed', 'wondering', 'films', 'scope', 'theoretical', 'prosecutor', 'high-speed', '``', 'apparent', 'validity', 'visual', 'virtue', 'riders', 'mascot', 'originally', 'davies', 'JJS', 'JJR', 'believes', 'strain', 'printing', 'values', 'following', 'webster', 'detached', 'parachute', 'locks', 'allowed', 'offense', 'monitoring', 'winter', 'divided', 'sudden', 'immune', 'vancouver', 'elephant', 'parameter', 'undertook', 'spot', 'applications', 'explored', 'date', 'such', 'revealed', 'stress', 'natural', 'varieties', 'sectors', 'ss', 'biographical', 'st', 'so', 'sc', 'definitions', 'pulled', 'manga', 'se', 'noteworthy', 'unacceptable', 'kong', 'course', 'episodes', 'experiments', 'constituted', 'internationally', 'jin', 'jim', 'troubles', 'louisville', 'attraction', 'constitutes', 'suspension', 'decades', 'abusive', 'petition', 'instantly', 'civilian', 'matches', 'indigenous', 'records', 'matched', 'establishing', '1824', 'quarter', 'repaired', 'turtle', 'square', 'honduras', 'beloved', 'owing', 'sponsor', 'entering', 'neighbourhood', 'blp', 'seriously', 'investigation', 'internet', 'suggesting', 'formula', 'squares', 'million', 'possibility', 'quite', 'recordings', 'complicated', 'besides', 'poems', 'unnamed', 'shores', 'training', 'programming', 'modest', 'gordon', 'routes', 'ignored', 'spoken', 'clause', 'potter', 'one', 'gases', 'spanish', 'vote', 'open', 'city', 'convent', '23', 'structured', 'indicate', '2', 'draft', 'handbook', 'bits', 'cite', 'williams', 'proving', 'specialists', 'representing', 'inventor', '1920', 'rival', 'future', 'sophie', 'russia', 'prospect', 'addressing', 'illness', 'san', 'sam', 'turned', 'locations', 'alley', 'sad', 'prestigious', 'say', 'buried', 'stanley', 'allen', 'borough', 'saw', 'byzantine', 'warriors', 'aside', 'zoo', 'note', 'take', 'wanting', 'vandals', 'butterfly', 'surfaces', 'opposite', 'knew', 'molecule', 'printed', 'remarks', 'pages', 'serie', 'average', 'phil', 'drive', 'federal', 'atlantic', 'salt', 'laws', 'madison', 'senators', 'friction', 'macedonia', 'bright', 'aggressive', 'slot', 'slow', 'romanian', 'liberation', 'tears', 'going', 'hockey', 'congressional', 'carolina', 'assistant', 'genera', 'gazette', 'singer-songwriter', 'clans', 'prime', 'krishna', 'resource', 'artist', 'admins', 'roger', 'bombs', 'where', '16th', 'vision', 'hour', 'surgery', 'clips', 'compounds', 'jumped', 'representatives', 'sponsorship', 'bureau', 'teens', 'jobs', 'mature', 'vertical', 'screen', 'dome', 'concentrate', 'awards', 'jets', 'many', 's', 'expression', 'mann', 'twin', 'considers', 'combines', 'stretch', 'west', 'locally', 'airlines', 'combined', 'stripped', 'prototype', 'differently', 'wants', 'enable', 'lanes', 'thousand', 'formed', 'photos', 'observe', 'wales', 'extant', 'former', 'tribal', 'polls', 'prominence', 'single', 'hayes', 'policies', 'newspaper', 'situation', 'constituency', 'canon', 'bros', 'demolition', 'fame', 'binary', 'missiles', 'verified', 'lambert', 'lovers', 'vandalism', 'breakdown', 'singapore', 'reverts', 'harris', 'advertisement', 'intended', 'costs', 'trains', 'dimension', 'scholarship', 'summer', 'being', 'rest', 'weekly', 'occasional', 'generator', 'geological', 'instrument', 'prominently', 'structural', 'aspects', 'around', 'dark', 'traffic', 'preference', 'vacuum', 'world', 'postal', 'clan', 'fossils', 'clay', 'seating', 'lebanon', 'presentation', '68', 'moreover', 'diving', 'racial', 'divine', 'thinks', 'composers', 'dimensions', 'memories', 'tube', 'exit', 'restoring', 'refer', 'biased', 'dresden', 'scientific', 'power', 'thailand', 'executives', 'stone', 'origins', 'package', 'industry', 'favorite', 'neighbor', 'act', 'bond', 'burning', 'image', 'essex', 'parties', 'angola', 'bergen', 'technically', 'her', 'philadelphia', 'brazilian', 'survives', 'complete', 'mammals', 'survived', 'elimination', 'unreliable', 'technologies', 'with', 'buying', 'pull', 'rush', 'october', 'dirty', 'politically', 'agree', 'darker', 'detailed', 'gone', 'ac', 'ab', 'citizenship', 'johnny', 'ai', 'certain', 'am', 'al', 'watches', 'an', 'as', 'ensuing', 'at', 'follow-up', 'cathedral', 'watched', 'cream', 'extract', 'graduate', 'implied', 'spatial', 'presenting', 'congress', 'gifts', 'a7', 'terry', 'slang', 'tricks', 'acids', 'mask', 'mass', 'adam', 'behavioral', 'original', 'consider', 'caused', 'debris', 'tours', 'reasoning', 'causes', 'particles', 'careful', 'hunting', 'tv', 'spirit', 'to', 'tail', 'te', 'paying', 'appointment', 'condition', 'illustrated', '17th', 'cable', 'accompanying', 'african-american', 'joined', 'large', 'sang', 'sand', 'harry', 'small', 'abbreviated', 'past', 'displays', 'pass', 'situated', 'richard', 'accreditation', 'section', 'scientists', 'nurse', 'method', 'contrast', 'revealing', 'full', 'installations', 'hours', 'november', 'legend', 'experience', 'prior', 'periodic', 'social', 'action', 'struggle', 'via', 'followed', 'non-notable', 'vii', 'marriages', 'regiment', 'select', 'intensive', 'archived', 'attendance', 'objectives', 'petroleum', 'pearl', 'archives', '6', 'ballad', 'more', 'teen', 'door', 'initiated', 'substances', 'company', 'tested', 'foundations', 'objections', 'administrators', 'keeping', 'science', 'patriarch', 'mall', 'resources', 'learn', 'male', 'beautiful', 'memoirs', 'impacts', 'stated', 'cosmic', 'suggestions', 'accept', 'states', 'sense', 'dress', 'axis', 'huge', 'respective', 'hugh', 'dismissed', 'creature', 'plant', 'plans', 'countryside', 'variant', 'treatments', 'soundtrack', 'plane', 'waves', 'ethics', 'authentic', 'refuse', 'resemble', 'broadcasting', 'fundamental', 'geographic', 'replied', 'passages', 'mexican', 'trade', 'attitude', 'paper', 'scott', 'signs', 'itv', 'broadway', 'turbine', 'its', 'roots', 'termed', 'symptoms', 'bermuda', 'followers', 'travelling', 'sauce', 'ally', 'severely', 'propose', 'designation', 'always', 'loosely', 'isle', 'courses', 'found', 'status', 'england', 'reduce', 'police', 'measurement', 'blues', 'really', 'psychology', 'blacks', 'research', 'occurs', 'highway', 'belief', '1920s', 'qualify', 'imaging', 'imagine', 'rises', 'definition', 'owners', 'submarines', 'w', 'testament', 'castle', 'exhibited', 'major', 'sinclair', 'historian', 'thereafter', 'number', 'preservation', 'guess', 'fuller', 'guest', 'jet', 'introduction', 'cartoon', 'saint', 'show', 'essays', 'molecular', 'relationship', 'immediate', 'focusing', 'obama', 'determines', 'iranian', 'vocal', 'determined', 'marriage', 'headquartered', 'basically', 'fights', 'organisations', 'sell', 'tough', 'self', 'also', 'internal', 'play', 'singles', 'monastery', 'unused', 'virus', 'plan', 'accepting', 'galway', 'omaha', 'sometimes', 'cover', 'artistic', 'barrel', 'microsoft', 'wording', 'golf', 'gold', 'session', 'freight', 'defender', 'occupation', 'impact', 'writes', 'writer', 'failed', 'enzyme', 'factor', 'armour', 'columns', 'loved', 'giants', 'dependent', 'banned', 'trek', 'actress', 'closely', 'reporters', 'banner', 'enemy', 'progressive', 'rfc', 'banking', 'rfa', 'river', 'approaching', 'insane', 'set', 'creator', 'activists', 'sex', 'collectively', 'see', 'sec', 'migration', 'sea', 'institutes', 'analog', 'spirits', 'movie', 'currently', 'demons', 'monsters', 'knowing', 'targeted', 'incident', 'interface', 'legislature', 'last', 'influential', 'barely', 'connection', 'long-term', 'poverty', 'whole', 'load', 'volcanic', 'licence', 'majesty', 'bell', 'loan', 'leon', 'hollow', 'agents', 'adaptation', 'scottish', 'indefinite', 'belt', 'airfield', 'devil', 'publishing', 'monthly', 'acceptance', 'hitting', 'geoffrey', 'citations', 'firm', 'raced', 'champion', 'fire', 'races', 'representative', 'systematic', 'towns', 'uncertain', 'judicial', 'reliable', 'expanded', 'technical', 'pressed', 'formats', 'robin', 'kingdom', 'pound', 'hoping', 'sabha', 'moth', 'von', 'owen', 'motors', 'triple', 'cuisine', 'shorter', 'read', 'virtually', 'survey', 'commune', 'flooded', 'comprehensive', 'alert', 'viewing', 'levels', 'necessity', 'nickname', 'stack', 'infamous', 'recent', 'amy', 'concrete', 'leone', 'hercules', 'conclusions', 'recipient', 'admission', 'signals', 'rangers', 'parents', 'location', 'sydney', 'relevance', 'input', 'reverted', 'surprised', 'australia', 'victims', 'emergency', 'demands', 'couple', 'suffering', 'quest', 'emergence', 'projects', 'formal', 'd', 'chorus', 'communications', 'continue', 'tribes', 'disorder', 'privately', 'methods', 'spring', 'palm', 'sight', 'curious', 'battalion', 'measurements', 'religion', 'temple', 'be', 'ba', 'agreement', 'nowhere', 'santa', 'relating', 'by', 'wildlife', 'anything', 'deserves', 'archbishop', 'watchlist', 'repair', 'colorado', 'into', 'integral', 'servers', 'appropriate', 'primarily', 'contributor', 'next', 'arcade', 'spam', 'sock', 'specifically', 'custom', 'suit', 'opens', 'considerably', 'elsewhere', 'hawaiian', 'jewish', 'poster', 'atop', 'link', 'pacific', 'atom', 'line', 'considerable', 'up', 'us', 'morocco', 'un', 'customers', 'verification', 'uk', 'continuously', 'alarm', 'aerial', 'nationalist', 'armstrong', 'defined', 'likewise', 'influence', 'chat', 'defines', 'phantom', 'codes', 'fixing', 'edwards', 'uranium', 'invalid', 'preventing', 'definitely', 'actors', 'revision', 'elements', 'developmental', 'robots', 'sides', 'ago', 'lane', 'land', 'fighter', 'algorithm', 'age', 'holes', 'feud', 'summit', 'incomplete', 'enrolled', 'walker', 'fresh', 'having', 'essay', 'code', 'partial', 'results', 'existing', 'highways', 'legal', 'centers', 'seemed', 'archdiocese', 'turkish', 'harvest', 'concerned', 'young', 'send', 'citing', 'indicating', 'uploaded', 'garden', 'torture', 'continues', 'reopened', 'mixing', 'continued', 'minerals', 'categories', 'northwestern', 'magic', 'harbor', 'eva', 'marry', 'eve', 'fewer', 'try', 'race', 'reich', 'massachusetts', 'athlete', 'ulster', 'licensed', 'imply', 'video', 'licenses', 'dynamics', 'odd', 'victor', 'index', 'apparatus', 'expressed', 'consistently', 'indian', 'twins', 'flowing', 'firms', 'bird', 'publications', 'led', 'lee', 'leg', 'gathered', 'punch', 'dressed', 'les', 'let', 'euro', 'consideration', 'invented', 'fifteen', 'great', 'engage', '1932', 'receive', 'involved', 'casino', 'resulting', 'defeat', 'opinion', 'residents', 'makes', 'maker', 'involves', 'holmes', 'firefox', 'mice', 'outcomes', 'tools', 'standing', 'confidence', '1938', 'certificate', 'illegal', 'bush', 'guideline', 'duplicate', 'doubt', 'baba', 'occurred', 'opposing', 'baby', 'charity', 'customer', 'balls', 'animals', 'this', 'challenge', 'clients', 'insists', 'thin', 'drill', 'process', 'lock', 'loch', 'purposes', 'pieces', 'high', 'slip', 'trumpet', 'educational', 'delay', 'animal', 'comedy', 'establishment', 'blocks', 'singular', 'gardner', 'fits', 'ties', 'hawk', 'referring', 'realized', 'robot', 'element', 'realizes', 'allow', 'volunteers', 'evolutionary', 'producer', 'move', 'produced', 'motorcycle', 'parameters', 'warren', 'perfect', 'decay', 'chosen', 'varies', 'meantime', 'degrees', 'communication', 'puerto', '2011', '2010', '2013', '2012', 'physicians', 'designs', 'earn', 'newman', 'dock', 'snake', 'rotation', 'augustus', 'cage', 'transparent', 'presidential', 'merge', 'truth', 'accounts', 'beneath', 'mets', 'doing', 'society', 'frequency', 'thirteen', 'disco', 'tenth', 'witness', 'matrix', \"'\", 'valve', 'shut', 'interactions', 'regulatory', 'steering', 'mainland', 'dubbed', 'could', 'david', 'length', 'removing', 'davis', 'manuscript', 'touring', 'owned', 'jesus', 'tier', 'muhammad', 'owner', 'legislative', 'los', 'festival', 'system', 'percussion', 'interests', 'enforcement', 'lot', 'quarry', 'seymour', 'steel', 'inscriptions', 'warfare', 'contribs', 'split', 'roberts', 'sourcing', 'reproduction', 'nominator', 'steep', 'collecting', 'accusing', 'false', 'viewer', 'partnership', 'defending', 'clearly', 'viewed', 'documents', 'mills', 'mechanism', 'linda', 'korean', 'lily', 'accuracy', 'worldwide', 'lancaster', 'manor', 'courtesy', 'device', 'segment', 'subsequently', 'so-called', 'placement', 'stronger', 'face', 'mechanical', 'painting', 'fact', 'atmosphere', 'rings', 'disbanded', 'bring', 'manchester', 'bedroom', 'rough', 'asylum', 'trivial', 'principal', 'redirect', 'jay', 'should', 'terminal', 'entities', 'tape', 'molecules', 'riding', 'hope', 'meant', 'insight', 'handle', 'means', 'familiar', 'prohibition', 'committees', 'embedded', 'denmark', 'rapper', 'comprising', 'taxes', 'glasgow', 'comics', 'stuff', 'ohio', 'frame', 'travis', 'wire', 'nuclear', 'partisan', 'membrane', 'pistol', 'email', 'ends', 'explosive', 'courtyard', 'historians', 'configuration', 'restrictions', 'drum', 'invited', '1880s', 'drug', 'rams', 'etc', 'figures', 'bristol', 'award-winning', 'rama', 'cm', 'conclude', 'ca', 'ce', 'cd', 'cousin', 'winning', 'undergraduate', 'admin', 'infobox', 'powered', 'mathematics', 'genetic', 'blatant', 'waste', 'recurring', 'trinity', 'commuter', 'shop', '2014', 'atlanta', 'spain', 'laser', 'runway', 'reliability', 'vi', 'site', 'adventures', 'hardware', 'vs', 'demanded', 'sits', 'terrorist', 'juan', 'bishop', 'romance', 'terrorism', 'ball', 'columbia', 'drink', 'upon', 'nationally', 'phd', 'infinite', 'expand', 'genus', 'off', 'colour', 'indonesia', 'patterns', 'command', 'audio', 'drawing', 'flesh', 'moments', 'mandate', 'rooms', 'paul', 'web', 'residential', 'wei', 'realize', 'combine', 'increased', 'government', 'increases', 'zimbabwe', 'cedar', 'desk', 'password', 'descendant', 'finnish', 'garage', 'become', 'replacement', 'amendment', 'poor', 'seeks', 'habitat', 'choosing', 'ballot', 'transport', 'contested', 'sufficiently', 'literally', 'avoid', 'does', 'passion', 'deciding', 'biology', 'schedule', 'pressure', 'accompanied', 'targeting', 'r', 'loans', 'counties', 'stage', 'gained', 'sister', 'lifestyle', 'angeles', 'holdings', 'seeds', 'insufficient', 'constraints', 'documentary', 'swimming', 'burma', 'alliance', 'letters', 'suited', 'commitment', 'referendum', 'assess', 'lung', 'cultivated', 'roads', 'mere', 'larvae', 'housing', 'spots', 'slovakia', 'specimens', 'naturally', 'function', 'fiscal', 'delivery', 'construction', 'apollo', 'entered', 'count', 'baptist', 'marquis', 'evident', 'official', 'smooth', 'placed', 'books', 'monument', 'distribution', 'bearing', 'irish', 'recognize', '1952', 'contribute', 'inn', 'websites', 'ink', 'jesse', 'renowned', 'compared', 'nonetheless', 'deadly', 'forests', 'scholarly', 'details', 'francisco', 'outlets', 'chance', 'ideals', 'dolphins', 'ghost', 'rule', 'lift', 'compete', 'pension', 'rural', 'gardens', 'magnetic', 'doubts', 'desirable', 'controversial', 'mansion', 'oldest', 'saved', 'relationships', 'votes', 'pedro', 'neighbours', 'bike', 'voted', 'messenger', 'worth', 'jacob', 'tagging', 'chapel', 'tickets', 'surgical', 'announced', 'phones', 'horn', 'chef', 'machines', 'established', 'disk', 'above', 'retrieved', 'churches', 'officially', 'consisting', 'told', 'simultaneously', 'protection', 'celebration', 'obtained', 'balance', 'daughter', 'items', 'study', 'adopt', 'itunes', 'smoke', 'aka', 'diameter', 'secure', 'highly', 'archaeological', 'thursday', 'total', 'sarah', 'plot', 'full-time', 'coins', 'negative', 'foster', 'indiana', 'separated', 'award', 'aware', 'championships', 'allies', 'blocking', 'jos\\xc3\\xa9', '1991', '1990', '1993', '1992', 'word', '1994', '1997', '1996', '1999', '1998', 'work', 'theories', 'era', 'gloria', 'indicated', 'cited', 'india', 'indicates', 'walsh', 'present-day', 'cites', 'recovery', 'carriers', 'inhabitants', 'verify', 'egyptian', 'boats', 'ordinary', 'beach', 'fever', 'after', 'hong', 'lab', 'customs', 'law', 'arch', 'appreciate', 'greek', 'green', 'parish', 'worst', 'order', 'salon', 'office', 'consent', 'satisfied', 'sony', 'japan', 'mayor', 'bombing', 'somewhere', 'highlights', 'recreational', 'denver', 'production', 'harmony', 'then', 'them', 'affected', 'safe', 'scene', 'break', 'band', 'they', 'lifelong', 'bank', 'rocky', 'oxygen', 'classified', 'backgrounds', 'l', 'rocks', 'reasonable', 'bells', 'excavations', 'schemes', 'logs', 'crimes', 'nigerian', 'hosted', 'logo', 'network', 'dialects', 'cameras', 'diesel', 'forty', 'vessels', 'fellowship', 'daniel', 'medicine', 'forth', 'disputed', 'barrier', 'standard', 'campaigns', 'disputes', 'created', 'creates', 'ordering', 'oppose', 'canterbury', 'incorporated', 'railroads', 'another', 'thick', 'electronic', 'illustrate', 'agriculture', 'rated', 'footballer', 'approximately', 'airs', 'rates', 'observations', 'john', 'dogs', 'albert', 'rejected', 'toronto', 'guild', 'target', 'scenes', 'iron', 'powers', 'manned', 'rewrite', 'portraits', 'disambiguation', 'manner', 'nba', 'contents', 'forced', 'strength', 'realm', 'latter', 'shorts', 'subjects', 'luxury', 'forces', 'explanation', 'circles', 'maiden', 'bruce', 'iceland', 'sue', 'involving', 'germany', 'phase', 'assessed', 'grave', 'neighborhoods', 'calculated', 'alumni', 'swamp', 'aunt', 'deeply', 'voting', 'notion', 'fitted', 'reserve', 'lewis', 'eminent', 'religions', u'PAD', 'protocol', 'sharks', 'resemblance', 'consciousness', 'implementation', 'guidance', 'myth', 'screening', 'pursuing', 'adequate', 'personality', 'do', 'dj', 'di', 'de', 'dc', 'preferred', 'watson', 'du', 'dr', 'verses', 'runs', 'covering', 'lexington', 'squadron', 'steal', 'steam', 'secretary', 'observer', 'observed', 'checks', 'depends', 'cattle', 'discussions', 'techniques', 'away', 'gentleman', 'portrayed', 'unable', 'cooperation', 'drawn', 'caves', 'encounters', 'we', 'terms', 'wo', 'handful', 'wu', 'wp', 'packages', 'kitchen', 'received', 'climate', 'cow', 'cox', 'ill', 'ncaa', 'receiver', 'coi', 'transmission', 'requests', 'tone', 'royal', 'excess', 'tons', 'tony', 'speak', 'strong', 'engines', 'flexible', 'duties', 'families', 'innocent', 'attacked', 'concerning', 'applied', 'physician', 'has', 'ahead', 'publicly', 'launches', 'stubs', 'air', 'aim', 'formatting', 'gng', 'applies', 'aid', 'property', 'launched', 'mistake', 'cylinder', 'uganda', 'tissue', 'brake', 'cone', 'hebrew', 'comparative', 'confirmed', 'descent', 'perform', 'apparently', 'jerry', 'userpage', 'plates', 'wheel', 'independent', 'rail', 'rain', 'hand', 'norwegian', 'producers', 'blamed', 'vermont', 'kept', 'whereby', 'scenario', '1978', '1977', '1976', '1975', '1974', '1973', '1972', '1971', '1970', 'client', 'centres', 'the', 'camps', 'musical', 'unified', 'traditions', 'quoted', 'athletic', 'gods', 'edmonton', 'newton', 'gravity', 'quotes', 'thanks', 'victim', 'adding', 'depicts', 'hills', 'photographer', 'wright', 'spread', 'board', 'plasma', 'caps', 'fusion', 'cape', 'gandhi', 'night', 'security', 'portuguese', 'honored', 'trained', 'korea', 'born', 'productions', 'confusing', 'purple', 'comments', 'filming', 'asking', 'participation', 'marketing', 'illustration', 'graduates', 'architectural', 'peer', 'post', 'properties', 'trophy', 'newspapers', 'months', 'anime', 'pays', 'prisoners', 'profession', 'bound', 'rendering', 'balanced', 'wan', 'compression', 'medal', 'legislation', 'sovereign', 'fight', 'accordingly', 'clinical', 'way', 'editions', 'was', 'war', 'lowest', 'becoming', 'peninsula', 'mysterious', 'elderly', 'encoded', 'true', 'injury', 'maximum', 'crystal', 'emotional', 'moore', 'computing', 'evidence', 'expertise', 'promised', 'archive', 'physical', 'dying', 'topped', 'reality', 'interested', 'holding', 'test', 'brothers', 'update', 'scores', 'interval', 'modules', 'together', 'beds', 'loyal', 'songs', 'concept', 'dance', 'global', 'battle', 'layers', 'certainly', 'factories', 'grape', 'zone', 'graph', 'flash', 'permanently', 'terror', 'southwest', 'division', 'supported', 'hannah', 'seemingly', 'liability', 'anonymous', 'entries', 'trouble', 'blast', 'perceived', 'presented', 'turns', 'gun', 'p', 'guitars', 'guy', 'upper', 'revolution', 'verifiable', 'rouge', 'discover', 'affiliation', 'cost', 'cargo', 'curse', 'appear', 'assistance', 'shares', 'uniform', 'illustrations', 'shared', 'appeal', 'supporting', 'explosion', 'genes', 'teaches', 'appears', 'change', 'sending', 'incoming', 'trial', 'usually', 'regardless', 'hiking', 'extra', 'marked', 'marker', 'fbi', 'rarely', 'market', 'prove', 'interim', 'territories', 'live', 'angels', 'rainfall', 'entrance', 'missionaries', 'club', 'clue', 'commissioned', 'organizations', 'bowler', 'slogan', 'ibm', 'ibn', 'defeats', 'car', 'cap', 'cat', 'labeled', 'incidents', 'can', 'breeds', 'heart', 'dedicated', 'december', 'chip', 'carroll', 'topic', 'heard', 'spa', 'clothing', 'occur', 'productive', 'discussion', 'bonds', 'write', 'criterion', 'economy', 'armies', 'product', 'sacrifice', 'southern', 'motorway', 'produce', 'islands', 'heroes', 'nomination', 'remember', 'grandson', 'whenever', 'explicit', 'typical', 'tagged', 'serving', 'indeed', 'displayed', 'brain', 'statistical', 'cold', 'still', 'birds', '1834', 'acknowledge', 'vicinity', 'forms', 'broadcasts', 'RB', 'factual', 'norway', 'nom', 'non', 'influences', '1955', '1954', '1957', '1956', 'taliban', '1953', 'wealthy', 'not', 'nov', 'now', '1959', 'hall', 'nor', 'lineage', 'january', 'drop', 'entirely', 'cliffs', 'concerts', 'el', 'domain', 'significantly', 'challenged', 'ed', 'kane', 'directing', 'yeah', 'challenges', 'fires', 'ex', 'year', 'et', 'naming', 'teams', 'ep', 'amusement', 'album', 'shown', 'opened', 'space', 'furthermore', 'looking', 'rational', 'receiving', 'viable', 'shows', 'cars', 'advantages', 'carl', 'marina', 'marine', 'card', 'care', 'cycles', 'transition', 'british', 'honest', 'invitation', 'promotion', 'altitude', 'blind', 'romania', 'flying', 'striking', 'variables', 'municipality', 'yourself', 'directly', 'impossible', 'ring', 'tomorrow', 'size', 'sheet', 'silent', 'caught', 'breed', 'flint', 'friend', 'mostly', 'that', 'pittsburgh', 'inmates', 'tehran', 'thai', 'flowers', 'than', 'professionals', 'television', 'edition', 'transferred', 'vocals', 'fruits', 'accessed', 'browser', 'surname', 'angel', 'remained', 'premier', 'overnight', '13th', 'supervision', 'anger', 'breakfast', 'offering', 'veteran', 'offer', 'equipment', 'online', 'objective', 'begin', 'price', 'importantly', 'rationale', 'successive', 'america', ']', 'michelle', 'forever', 'bishops', 'steady', 'mrs', 'ferrari', 'pattern', 'professional', 'abraham', 'typically', 'german', 'discovered', 'copyrighted', 'fifth', 'ground', 'upgrade', 'ratio', 'title', 'saints', 'only', 'developed', 'thompson', 'interstate', 'cannon', 'truly', 'baghdad', 'honours', 'manuscripts', 'SYM', 'amanda', 'husband', 'bulgaria', 'concert', 'physically', 'elected', 'namely', 'actively', 'sport', 'concern', 'israeli', 'colours', '3', 'between', 'justified', 'notice', 'armenian', 'article', 'recovered', 'wheels', 'comes', 'nearby', '150', 'learning', 'proved', 'amino', 'oliver', 'informed', 'carey', 'tropical', 'linguistic', 'rebuilt', 'wonderful', 'observers', 'external', 'stems', 'argentina', 'prehistoric', 'developing', 'these', 'humans', 'trick', 'editorial', 'orientation', 'determination', 'soil', 'metric', 'commander', 'bias', 'somebody', 'ship', 'develop', 'media', 'ceo', 'poetic', 'inquiry', 'document', 'noble', 'finish', 'centuries', 'closest', 'arctic', 'fruit', 'tradition', 'complained', 'theater', 'charges', 'constitutional', 'severe', 'gain', 'charged', 'redirects', 'battleship', 'dancers', 'valuable', 'actor', 'touch', 'speed', 'death', 'thinking', 'improvement', 'verse', 'treatment', 'role', 'real', 'rules', 'offence', 'specimen', 'early', 'using', 'execution', 'lady', 'rear', 'ruled', 'collective', 'miracle', 'annually', 'benefit', 't', 'fully', 'output', 'twelve', 'exposed', 'intend', '1859', '1851', 'willis', 'recorded', 'conservative', 'willie', 'assembly', 'business', 'sixth', 'equivalent', 'credits', '1930', '1937', '1936', '1934', 'sixty', '1939', 'exciting', 'throw', 'brighton', 'comparison', 'central', 'sri', 'ideology', 'muslims', 'supervised', 'greatly', 'processor', 'arabic', 'heavy', 'protests', 'inclusion', 'variable', 'le\\xc3\\xb3n', 'heated', 'elementary', 'nowadays', 'your', 'log', 'area', 'assumed', 'stark', 'start', 'cats', 'low', 'stars', 'somerset', 'assumes', 'jones', 'pitcher', 'cottage', 'trying', 'copied', 'circulation', 'default', 'louisiana', 'beliefs', 'wrestlers', '600', 'describe', 'moved', 'sales', 'salem', 'moves', 'hospitals', 'antenna', 'administered', 'storage', 'valid', 'gambling', 'you', 'forcing', 'gaining', 'peak', 'coverage', 'queensland', 'pool', 'building', 'bulk', 'restored', 'overseas', 'strings', 'since', 'exhibitions', 'pointing', 'graphics', 'month', 'ceased', 'publish', 'handball', 'religious', 'griffin', 'chain', 'auckland', '1930s', 'dominated', 'homes', 'very', 'horror', 'coloured', 'verb', 'decide', 'laura', 'squadrons', '--', 'louis', 'circuit', 'locomotive', 'fence', 'streets', 'casual', 'darkness', 'consumers', 'ecclesiastical', 'labels', 'emotions', 'witnesses', 'learned', 'edited', 'iran', 'loose', 'modify', 'ballet', 'answers', 'tracks', 'selective', 'trunk', 'iraq', 'arena', 'colored', 'conviction', 'noticeboard', 'inspired', 'losses', 'soldier', 'amount', 'advertising', 'trainer', 'family', 'bordered', 'put', 'aimed', 'muslim', 'toys', 'reverting', 'conventional', 'earliest', 'takes', 'answered', 'revelation', 'contains', 'taken', 'brunswick', 'surprisingly', 'instrumental', 'mounted', 'producing', 'coalition', 'nebraska', 'nine', 'history', 'phrase', 'species', 'english-language', 'clarke', 'stayed', 'reject', 'fr', 'ft', 'tried', 'derived', 'fa', 'tries', 'fe', 'invasion', 'horizontal', 'fm', 'a', 'documentation', 'bugs', 'crafts', 'banks', 'inline', 'egg', 'remnants', 'help', 'reservoir', 'soon', 'held', 'thermal', 'committee', 'highlighted', 'lateral', 'actually', 'absence', 'systems', 'post-war', 'evening', 'food', 'anticipated', 'commodore', 'foot', 'well-known', 'elder', 'occasions', 'predators', 'fairy', 'trailer', 'referred', 'sketches', 'dig', 'neil', 'blank', 'positioned', 'quantum', 'beyond', 'event', 'robert', 'surrounded', 'douglas', 'safety', '7', 'issue', 'bass', 'housed', 'favored', 'pub', 'labs', 'houses', 'reason', 'base', 'ask', 'matthews', 'ash', 'launch', 'terrible', 'sheikh', 'american', 'automobile', 'scheduled', 'undergo', 'probability', 'reflected', 'dust', '1874', '1875', '1872', '1873', 'miss', 'maple', 'horse', 'station', 'identity', 'scheme', 'selling', 'storm', 'jamie', '1919', 'authors', '1911', '1910', 'albums', '1912', '1915', '1917', 'inducted', 'performers', 'south-eastern', 'grey', 'bride', 'territorial', 'ecuador', 'toward', 'sentenced', 'charlotte', 'alongside', 'substantial', 'sentences', 'concentration', 'organs', 'karl', 'lie', 'cherokee', 'cave', 'scotland', 'officers', 'labour', 'useless', 'aired', 'towards', 'quote', 'anniversary', 'experiences', 'aires', 'alpha', 'approved', 'salary', 'chronicle', 'mobile', 'performances', 'clear', 'popularity', 'part-time', 'electrons', 'velocity', 'usual', 'tubes', 'surrey', 'phenomenon', 'coaster', 'translation', 'completion', 'copyright', 'duncan', 'justice', 'inaugurated', 'less', 'assertion', 'flights', 'pretty', 'circle', 'officials', 'meanwhile', 'numbering', 'trees', 'famous', 'feels', 'combinations', 'during', 'alexander', 'catches', 'underlying', 'withdrawal', 'switzerland', 'x', 'maurice', 'throwing', 'prague', 'culture', 'descriptions', 'close', 'locals', 'probable', 'pictures', 'rhode', 'won', 'probably', 'conditions', 'unconscious', 'missing', 'ranked', 'genre', 'league', 'mega', 'minorities', 'sensitive', 'anon', 'forgotten', 'vault', 'experimental', 'mickey', 'liked', 'jeff', 'battery', 'whatever', 'header', 'likes', 'linux', 'vessel', 'described', 'stamp', 'describes', 'maintenance', 'territory', 'empty', 'walter', 'dialogue', 'lived', 'partly', 'else', 'recalled', 'liver', 'folklore', 'look', 'socialist', 'governor', 'rope', 'while', 'smart', 'fleet', 'animated', 'guide', 'loop', 'voters', 'hoax', 'rulers', 'reads', 'ready', 'communal', 'grant', 'grand', 'modification', 'shah', 'composition', 'conflict', 'used', 'lawyers', 'ratings', 'bonus', '000', 'uses', 'user', 'database', 'poland', 'obviously', 'chronicles', 'five', 'coup', 'settlements', 'reviewed', 'reviewer', 'taiwan', 'cemetery', 'barack', 'questioned', 'remaining', 'marco', 'march', 'lacking', 'evaluate', 'showing', 'game', 'wings', 'submission', 'signal', 'toyota', 'donna', 'popular', 'mathematical', 'sketch', 'parade', 'fathers', 'creation', 'some', 'pierre', 'trends', 'economic', 'delivered', 'describing', 'competitions', 'civilization', 'minimal', 'eating', 'RBS', 'processing', 'lakes', 'stem', 'step', 'reunited', 'plots', 'wealth', 'faith', 'simulation', 'sponsored', 'silence', 'seeing', 'within', 'nonsense', 'slovak', 'rolls', 'statistics', 'bangladesh', 'placing', 'heritage', 'himself', 'registered', 'specialty', 'properly', 'reed', 'authority', 'newer', 'branch', 'russian', 'injection', 'info', 'utc', 'skull', 'similar', 'ordered', 'adults', 'metals', '1894', '1897', 'cotton', 'amounts', 'application', 'politicians', 'electrical', 'recognition', 'department', 'phillies', 'draw', 'visits', 'regulations', 'oregon', 'reservation', 'structure', 'urged', 'independently', 'e', 'practically', 'dvd', 'required', 'youtube', 'orbit', 'heath', 'depth', 'neighbouring', 'requires', 'farms', 'ga', 'go', 'gm', 'kate', 'compact', 'birthplace', 'mosque', 'suite', '1793', 'wave', 'facebook', 'telling', 'positions', 'button', 'michael', 'ryan', 'inspection', 'enforce', 'carter', 'abortion', 'jump', 'picked', 'download', 'honors', 'plays', 'paintings', 'colonel', 'marketed', 'vampire', 'cell', 'experiment', 'poles', 'collins', ';', 'tournaments', 'focuses', 'elect', 'commercial', 'believed', 'focused', 'arrive', 'northern', 'products', 'gene', 'addresses', 'clark', 'nearest', 'win', 'addressed', 'singing', 'cloud', 'remains', 'hudson', 'camera', 'vehicle', 'simpler', 'historically', 'biblical', 'started', 'becomes', 'missile', 'rivalry', 'appointed', 'starter', 'boards', 'consort', 'ride', 'servants', 'backwards', 'meet', 'drops', 'control', 'kenny', 'links', 'providers', 'escaped', 'sought', 'triangle', 'voice', 'dominant', 'poetry', 'arrangement', 'located', 'circular', 'farm', 'ronald', 'spelling', 'manhattan', 'claire', 'encyclopedia', 'agenda', 'healthcare', 'software', 'fastest', 'including', 'costume', 'cruise', 'mentioned', 'outer', 'popularly', 'sword', 'hands', 'front', 'literacy', 'kilometres', 'masters', 'university', 'slide', 'magnitude', 'mode', 'crossing', 'commonwealth', 'globe', '700', 'constitute', 'sands', 'variety', 'measure', 'sandy', 'secretly', 'entertainment', 'ricky', 'may', 'activist', 'cause', 'achievements', 'alleged', 'wines', 'recommendations', 'attending', 'completely', 'advisor', 'princess', '1983', 'geometry', 'determining', 'route', '1981', 'florida', 'membership', 'keep', 'counterpart', 'keen', 'designed', 'evans', 'powerful', 'improving', 'precisely', 'quality', 'hiding', 'management', 'practitioners', 'bears', 'data', 'relations', 'attack', 'perfectly', 'final', 'prone', 'exactly', 'lists', 'bassist', 'overwhelming', 'herself', 'photograph', 'ben', 'submitted', 'bee', 'claim', 'arc', 'sr', 'providing', 'distinguished', 'bet', 'exhibit', 'enforced', 'portrait', 'need', 'border', 'q', 'able', 'battles', 'instance', 'relatives', 'truck', 'singh', 'medals', 'blades', 'lectures', 'jorge', 'intentions', 'moths', 'montana', 'connected', 'preparations', 'gallery', 'stereo', 'consequences', 'url', 'proceedings', 'databases', 'impression', 'emerging', 'parker', 'indoor', 'anyway', 'south-east', 'argues', 'ottoman', 'partners', 'based', 'sheriff', '(', 'winner', 'receptors', 'employer', 'bases', 'inherited', 'fuel', 'employed', 'achieve', 'dodge', 'michigan', 'overall', 'maritime', 'joint', 'legitimate', 'years', 'procedures', 'gray', 'processes', 'places', 'trucks', 'exercises', 'processed', 'contain', 'tunes', 'widow', 'albania', 'prayers', 'pitch', 'terrain', 'operates', 'legacy', 'operated', 'tend', 'written', 'supernatural', 'correctly', 'neither', '1890s', 'ken', 'sole', 'importance', 'efficiency', 'key', 'approval', 'problem', 'hits', 'limits', 'career', 'minds', 'admit', 'jersey', 'torn', 'tuesday', 'distinguish', 'kings', 'poem', 'addition', 'slowly', 'poet', 'username', 'controlled', 'both', 'controller', 'hamburg', 'smoking', 'novel', 'owns', 'mythology', 'demo', 'surface', 'finance', 'orbital', 'capture', 'generic', 'balloon', 'janeiro', 'proceeds', 'parts', 'speaker', 'northwest', 'incumbent', 'habitats', 'party', 'annie', 'line-up', 'appearances', 'effect', 'frequently', 'nation', 'transaction', 'reflection', 'lunch', 'i', 'modeled', 'well', 'vincent', 'trials', 'restore', 'sourced', 'increasingly', '42', 'accurate', 'sofia', 'mistaken', 'detail', 'sources', 'mistakes', 'distant', '40', 'skill', 'coordination', 'density', 'large-scale', 'logged', 'deposits', 'sweet', 'riverside', 'NNS', 'NNP', 'fate', 'utah', 'historic', 'burden', 'immediately', 'intersection', 'prominent', 'loss', 'lincoln', 'necessary', 'lost', 'sizes', 'candy', 'payments', 'lose', 'refugees', 'page', 'library', 'cleveland', 'home', 'peter', 'broad', 'objected', 'delaware', 'overlap', 'e-mail', 'limitations', 'inaccurate', 'reaching', 'journal', 'expansion', 'prohibited', 'refuge', 'freedom', 'recognized', 'compatible', 'UH', 'tongue', 'persuaded', 'stakes', 'equally', 'celebrations', 'previously', 'townships', 'receptor', 'artists', 'additions', 'strategy', 'utility', 'mississippi', 'accused', 'additional', 'francis', 'pc', 'museum', 'imperial', 'inner', 'notices', 'exposure', 'searches', 'cricket', 'revised', 'north', 'subjective', 'neutral', 'hi', 'goals', 'courts', 'ha', 'eat', 'hd', 'he', 'cells', 'signed', 'sockpuppet', 'carriage', 'converted', 'limit', 'piece', 'display', 'mechanics', 'universal', 'penny', 'twist', 'education', 'eric', 'cavalry', 'functions', 'rumors', 'ingredients', 'offensive', u'OOV', 'orchestral', 'star', 'stay', 'additionally', 'nintendo', 'stan', 'friends', 'pools', 'blogs', 'persistent', 'portion', 'diagnosis', 'lives', 'simpson', 'disruptive', 'secondly', 'similarity', 'dissolution', 'dynamic', 'nottingham', 'asian', 'consists', 'captain', 'whose', 'buddy', 'segments', 'swan', 'contained', 'presents', 'teaching', 'sorry', 'updated', 'rescue', 'downstream', 'activation', 'dutch', 'railways', 'stolen', 'reforms', 'affect', 'vast', 'alpine', 'skills', 'companies', 'solution', 'vector', 'employees', 'heading', 'clothes', 'force', 'japanese', 'likely', 'implemented', 'even', 'preferences', 'integrity', 'orchestra', 'asia', 'lights', 'new', 'tips', 'ever', 'deemed', 'men', 'anthropology', 'governing', 'active', '100', '101', '106', '104', 'dry', 'tapes', 'economics', 'ignoring', 'credit', 'omar', 'permit', 'suitable', 'fell', 'joshua', 'fantastic', 'VBG', 'campaign', 'VBD', 'VBN', 'county', 'VBP', 'moral', 'guests', 'VBZ', 'counts', 'landscape', 'army', 'arms', 'edward', 'call', 'recommend', 'survive', 'type', 'tell', 'supporters', 'composite', 'wars', 'warn', 'disruption', 'berlin', 'adult', 'ward', 'inhabited', 'flora', 'language', 'rights', 'roof', 'movies', 'exceptions', 'root', 'give', 'punk', 'advancing', 'titular', 'amazing', 'answer', 'minority', 'replacing', 'lithuanian', 'loyalty', 'president', 'lesbian', 'purchase', 'NNPS', 'attempt', 'third', 'vfd', 'maintain', 'operate', 'athletes', 'operations', 'deck', 'keyboard', 'before', 'scoring', 'personal', ',', 'crew', 'better', 'PRP', 'arbcom', 'weeks', 'belarus', 'deletion', 'combination', 'downs', 'therapy', 'grammar', 'meat', 'arrested', 'lucy', 'victories', 'acoustic', 'went', 'side', 'bone', 'mean', 'nave', 'covered', 'principles', 'milan', 'taught', 'trading', 'stealing', 'navy', 'temporary', 'dawn', 'collector', 'merchants', 'restricted', 'tales', 'crucial', 'mccarthy', 'content', 'reader', 'surprise', 'venezuela', 'turning', 'linear', 'revenge', 'aboriginal', 'flows', 'mistress', 'starts', 'messages', 'signature', 'loud', 'stewart', 'playwright', 'features', 'grade', 'hook', 'featured', 'floors', 'hood', 'girls', 'villages', 'somewhat', 'helen', 'begins', 'distance', 'structures', 'older', 'preparation', 'matter', 'silly', 'knights', 'sees', 'palace', 'modern', 'mind', 'mine', 'ming', 'all-time', 'seed', 'seen', 'seem', 'theology', 'seek', 'tells', 'POS', 'chest', 'quarterback', 'regular', 'zealand', 'don', 'observation', 'doc', 'medical', 'm', 'dog', 'competitors', 'points', 'principle', 'dos', 'consumer', 'dot', 'aquatic', 'lyrics', 'distances', 'visitor', 'jurisdiction', 'ending', 'treaties', 'attempts', 'chartered', 'liberty', 'nevada', 'judges', 'northeast', 'cumberland', 'photographic', 'explain', 'folded', 'judged', 'folks', 'wearing', 'tiles', 'reconstruction', 'toll', 'stop', 'coast', 'bat', 'bar', 'fields', 'bay', 'bag', 'bad', 'architecture', 'ban', 'ears', 'ethical', 'decides', 'karnataka', 'reference', 'testing', 'zones', 'decided', 'subject', 'pete', 'voyage', 'said', 'artificial', 'prince', 'olympics', 'sorts', 'warrior', 'wears', 'harvard', 'modeling', 'motto', 'suggested', 'uncertainty', 'against', 'und', 'distinction', 'contribution', 'presumably', 'appeared', 'guaranteed', 'height', 'initiative', 'aftermath', 'springs', 'proceeded', 'asks', 'basis', 'three', 'tiny', 'commission', 'trigger', 'interest', 'basic', 'basin', 'idol', 'threw', 'website', 'deeper', 'CC', 'quantities', 'sunshine', 'CD', 'personally', 'aviation', '160', 'exception', 'tank', 'transformation', 'near', 'suppose', 'murders', 'anchor', 'seven', 'metropolitan', 'mexico', 'ip', 'is', 'it', 'iv', 'ii', 'soils', 'in', 'seattle', 'mouse', 'id', 'if', 'grown', 'belle', 'make', 'potentially', 'colonies', 'grows', 'entitled', 'meets', 'VB', 'governors', 'declaring', 'differing', 'renaissance', 'opportunity', 'thoughts', 'kid', 'practiced', 'programs', 'settled', 'materials', 'roma', 'claims', 'investments', 'left', 'facto', 'just', 'sentence', 'unfair', 'assigned', 'fighters', 'identify', 'human', 'facts', 'yes', 'instructed', 'yet', 'nicolas', '1776', 'candidate', 'legion', 'regarded', 'assassination', 'character', 'friedrich', 'contestant', 'save', 'sailors', 'interior', 'background', 'destroy', 'erected', 'dreams', 'vanity', 'shoulder', 'performing', 'manual', 'unnecessary', 'dean', 'deal', 'somehow', 'dead', 'jupiter', 'paragraphs', 'dense', 'trace', 'electromagnetic', 'investigations', 'daytime', 'arguing', 'shakespeare', 'meanings', 'bold', 'translated', 'protagonist', 'bolt', 'super', 'chilean', 'magazine', 'afternoon', 'commit', 'marshal', 'automatically', 'nerve', 'managers', 'formerly', 'down', 'lies', 'doctrine', 'cardiff', 'initial', 'winters', 'editor', 'bolivia', 'fork', 'form', 'batman', 'landing', 'ford', 'failure', 'bengali', 'sent', 'fort', 'pavilion', 'understood', 'prevents', 'attached', 'stages', 'propaganda', 'delete', 'classic', 'covers', 'sale', 'floating', 'marking', 'locality', 'generally', 'linguistics', 'digital', 'holly', 'dies', 'felt', 'diet', 'journey', 'reign', 'authorities', 'weekend', 'carlos', 'died', 'billion', 'happening', 'assume', 'daily', 'teeth', 'profits', 'anglican', 'managed', 'eldest', 'themes', 'manager', 'mile', 'skin', 'mill', 'bomber', 'premises', 'milk', 'suicide', 'depend', 'disorders', 'technique', 'father', 'editors', '0', 'finally', 'praised', 'marks', 'sovereignty', 'me', 'string', 'innovation', 'merit', 'advised', '1995', 'fragments', 'governments', 'did', 'die', 'permits', 'proposals', 'accidentally', 'travels', 'item', 'round', 'olympic', 'unexpected', 'dealing', 'copy', 'literature', 'run', 'targets', 'majors', 'afghanistan', 'adds', 'favour', 'suspect', 'template', 'international', 'filled', 'palmer', 'transportation', 'dwarf', 'guardian', 'clerk', 'french', 'kilometers', 'wait', 'box', 'boy', 'canadian', 'institute', 'shift', 'bot', 'bow', 'exploitation', 'suggestion', 'bob', 'teenage', 'dick', 'useful', 'merely', 'licensing', 'everybody', 'troops', 'visit', 'france', 'peru', 'sharing', 'freestyle', 'acceptable', 'curriculum', 'malay', 'downtown', 'olive', 'effort', 'fly', 'pageant', 'tokyo', 'avoiding', 'soul', 'reviews', 'growing', 'making', 'dispute', 'deceased', 'lords', 'crazy', 'firing', 'kenneth', 'contentious', 'agent', 'sample', 'council', 'dennis', 'pink', 'rays', 'oslo', 'pine', 'chemical', 'till', 'sunday', 'pure', 'map', 'staying', 'designer', 'critics', 'fed', 'mac', 'mad', 'congressman', 'guys', 'grow', 'man', 'noun', 'johnson', 'maybe', 'tale', 'provide', 'jail', 'block', 'african', 'tall', 'talk', 'pointed', 'entity', 'stability', 'cuts', 'argued', 'group', 'thank', 'interesting', 'yorkshire', 'coaching', 'writers', 'listing', 'policy', 'mail', 'main', 'texas', 'accusations', 'views', 'killer', 'interview', 'killed', 'developments', 'possess', 'settings', 'proteins', 'rock', 'badly', 'conventions', 'girl', 'summary', 'elizabeth', 'canada', 'living', 'jackson', '3rd', '3rr', 'stupid', 'emerged', 'dioxide', 'sensor', 'correct', 'earlier', 'monster', 'mechanisms', 'california', 'ore', 'advance', 'watts', 'carnival', 'ministry', 'listings', 'thing', 'think', 'frequent', 'first', 'cheese', 'lone', 'rachel', 'shipyard', 'americans', 'long', 'carry', 'corporations', 'sounds', 'fiji', 'interchange', 'little', 'meaningful', 'anyone', 'plains', 'speaking', 'mining', 'eponymous', 'allegedly', 'continuous', 'accurately', 'broadcast', '11', '10', '13', '12', '15', '14', '17', '16', '19', '18', 'victorian', 'protected', 'venture', 'were', 'gathering', 'topics', 'voices', 'conspiracy', 'comedian', 'voiced', 'DT', 'occupied', 'kevin', 'speakers', 'bavaria', 'recreated', 'canton', 'potential', 'bailey', 'performance', 'channel', '200', 'pain', 'theatre', 'roster', 'track', 'beta', 'tract', 'pair', 'beth', 'queens', 'sutton', 'especially', 'surprising', 'larry', 'sigma', 'precise', 'rating', 'shot', 'certification', 'filed', 'contemporary', 'sites', 'drawings', 'threshold', 'corner', 'treasure', 'storms', 'histories', 'black', 'treasury', 'awareness', 'ranking', 'hungarian', 'get', 'contracts', 'designated', 'uninvolved', 'nearly', 'secondary', 'malaysian', 'yield', 'morning', 'miles', 'finishing', 'wiki', 'declared', 'seas', 'eighteenth', 'seat', 'relative', 'sean', 'seal', 'calendar', 'wonder', 'camping', 'label', 'boundaries', 'behind', 'reading', 'across', 'infrastructure', 'august', 'parent', 'killing', 'singers', 'dates', 'rugby', 'according', 'tour', 'dated', 'remake', 'spare', 'among', 'cancer', 'innovations', 'accusation', 'maintained', 'grants', 'exhibits', 'considering', 'mare', 'unusual', 'capable', 'mark', 'workshop', 'mars', 'constituencies', 'marx', 'mary', 're-released', 'shopping', 'offered', 'dramatic', 'declaration', 'yugoslav', 'those', 'sound', \"n't\", 'ongoing', 'residence', 'margin', 'conferences', 'eventually', 'characteristics', 'strait', 'coffee', 'sleeping', 'middle', 'pressing', 'protein', 'tourist', 'different', 'synagogue', 'harsh', 'doctor', 'pay', 'woodland', 'same', 'lamp', 'speech', 'arguments', 'struggling', 'extended', 'third-party', 'companion', 'running', 'driven', 'climbing', 'pradesh', 'largely', 'roughly', 'objection', 'solve', 'bottle', 'outdoor', 'money', 'unofficial', 'aspect', '4', 'extensive', 'heavier', 'jake', 'mos', 'grid', 'railroad', 'identifying', 'serves', 'server', 'facing', 'chamber', 'audience', 'either', 'drainage', 'served', 'jews', 'specified', 'images', 'joan', 'matching', 'deputy', 'choir', 'ellis', 'confirm', 'overly', 'pioneer', 'critical', 'expressing', 'affiliate', 'moderate', 'measuring', 'seconds', 'manufactured', 'fitness', 'notable', 'arts', 'notably', 'broken', 'resign', 'drums', 'refers', 'manufacturer', 'william', 'stations', 'island', 'violence', 'generated', 'practical', 'airline', 'mixed', 'provisional', 'road', 'referenced', 'whites', 'vacation', 'references', 'strip', 'jerusalem', 'shells', 'lions', 'enough', 'judging', 'strikes', 'arranged', 'romantic', 'poison', 'emissions', 'videos', 'rapids', 'citation', 'deer', 'deep', 'general', 'examine', 'planets', 'girlfriend', 'lifetime', 'cables', 'film', 'fill', 'again', 'genres', 'istanbul', 'personnel', 'drivers', 'hybrid', 'field', 'cleanup', 'students', 'important', 'tackle', 'decorated', 'subdivision', 'assets', 'u', 'resembles', 'starting', 'caste', 'represent', 'colleges', 'founder', 'suburban', 'founded', 'cooperative', 'talks', 'expressions', 'children', 'destroyers', 'preserved', 'alberto', 'premium', 'sitting', 'translations', 'scout', 'fall', 'difference', 'syracuse', 'alien', 'alma', 'mothers', 'celebrity', 'applicable', 'biological', '20th', 'neighborhood', 'portable', 'zero', 'titles', 'perspective', 'lawyer', 'further', 'creatures', 'defence', 'abu', 'tribute', 'public', 'movement', 'compilation', 'promising', 'component', 'ranges', 'ranger', 'operating', 'commercially', 'publisher', 'speeches', 'bible', 'airport', 'published', 'mentions', 'narrow', 'buses', 'transit', 'africa', 'rican', 'extinction', 'establish', 'readily', 'eye', 'distinct', 'two', 'governance', 'damaged', 'comparing', 'cultivation', 'achieving', 'diamond', 'leonard', 'landed', 'controlling', 'particular', 'town', 'none', 'vladimir', 'cluster', 'recall', 'der', 'des', 'guards', 'remain', 'paragraph', 'del', 'pioneered', 'strategies', 'specialized', 'marble', 'compare', 'share', 'sphere', 'minimum', 'numbers', 'robinson', 'biography', 'needs', 'csd', 'acts', 'maps', 'sacred', 'movements', 'ensemble', 'advice', 'par', 'questioning', 'ambassador', 'blood', 'coming', 'response', 'coat', 'dragon', 'coal', 'responsibility', 'playing', 'rounded', 'attachment', 'azerbaijan', 'radar', 'appeals', 'through', 'lava', 'existence', 'suffer', '24', '25', '26', '27', '20', '21', '22', 'sodium', '28', '29', 'late', 'detected', 'nhl', 'good', 'afds', 'seeking', 'males', 'socially', 'encouraging', 'walls', 'compound', 'oxford', 'association', 'mystery', 'easily', 'pregnant', 'spy', 'ashes', 'gender', 'repeating', 'everyone', 'mental', 'house', 'fish', 'hard', 'idea', 'engaging', 'oil', 'connect', 'comic', 'stands', 'initiatives', 'flower', 'funding', 'participants', 'longtime', 'print', 'evaluation', 'brewery', 'assist', 'lawrence', 'dealt', 'pleasant', 'difficulty', 'members', 'beginning', 'benefits', 'deleting', 'computers', 'sitcom', 'conducted', 'edges', 'pilots', 'copper', 'instances', 'utilized', 'done', 'elevator', 'fiction', 'twenty', '5th', 'construct', 'paint', 'regulation', 'assumption', 'statement', 'compromise', 'lease', 'muscles', 'park', 'part', 'doctors', 'believe', 'corpus', 'peaked', 'farming', 'gotten', 'youth', 'contrary', 'supposed', 'treated', 'interactive', 'nominee', 'philippine', 'orders', 'mountain', 'built', 'depending', 'click', 'majority', 'caesar', 'build', 'commentary', 'cameroon', 'province', 'eggs', 'salmon', 'chart', 'most', 'significant', 'services', 'extremely', 'spends', 'humanitarian', 'km', 'charitable', 'storyline', 'sector', 'thomas', 'particularly', 'rebels', 'commissions', 'relation', 'fine', 'find', 'faces', 'giant', 'lebanese', 'merger', 'distributed', 'waiting', 'unhappy', '8', 'merged', 'notation', 'permission', 'luke', 'express', 'courage', 'breast', 'theft', 'silk', 'resolve', 'remove', 'common', 'gospel', 'restaurants', 'tended', 'lion', 'individual', 'leslie', 'tender', '11th', 'expert', 'visiting', 'please', 'fans', 'smallest', 'toledo', 'burned', 'historical', 'complement', 'aircraft', 'defunct', 'reverse', 'sultan', 'annual', 'foreign', 'baltimore', 'upgraded', 'screenplay', 'point', 'simple', 'dancer', 'simply', 'unsuccessful', 'asserted', 'throughout', 'expensive', 'platinum', 'raise', 'create', 'trilogy', 'rivals', 'secret', 'dropping', 'ireland', 'meeting', 'ukraine', 'gay', 'honorary', 'gas', 'gap', 'understand', 'prices', 'politician', 'metro', 'raw', 'solid', 'bill', 'elections', 'replaced', 'portugal', 'century', 'encountered', 'decoration', 'itself', 'facade', 'italy', 'textile', 'complaints', 'ruth', 'development', 'strips', 'assignment', 'moment', 'purpose', 'lacrosse', 'task', 'prophet', 'spent', '1964', 'flags', 'nordic', 'thoroughly', 'swiss', 'organization', 'chemistry', 'spend', 'prevention', '1960', 'snow', 'lds', 'shape', 'openly', 'atomic', 'alternative', 'brandon', 'injuries', 'timber', 'wage', 'cut', 'cup', 'alternate', 'source', 'deliberately', 'dixon', 'easter', 'bin', 'bio', 'big', 'judgement', 'matters', 'bit', 'ren\\xc3\\xa9', 'cognitive', 'follows', 'indication', 'wikipedians', 'valleys', 'often', 'collectors', 'humorous', 'back', 'martial', 'examples', 'mirror', \"'ve\", 'scale', 'contacts', 'pet', 'decision', 'integration', 'per', 'newark', 'pen', 'connecting', 'eliminate', 'epic', 'commentator', 'patient', '300', 'continuing', 'costumes', 'goods', 'consumption', 'graduation', 'drama', 'extensions', 'consequently', 'pollution', 'jimmy', 'aliens', 'neutrality', 'frames', 'ontario', 'pronunciation', 'infected', 'germans', 'forward', 'opponent', 'boyd', 'murphy', 'immigration', 'boys', 'subsidiary', 'directed', 'planet', \"'re\", 'exploration', 'planes', 'autonomous', 'sort', 'constant', 'expedition', 'metal', 'engineering', 'cafe', 'allmusic', 'functionality', 'explaining', 'gross', 'favourite', 'prepared', 'lens', 'desert', 'implies', 'overlooking', 'vehicles', 'wards', 'responded', '2002', '2003', '2000', '2001', '2006', '2007', '2004', '2005', 'failures', '2008', '2009', 'jason', 'extensively', 'graves', 'vietnamese', 'notability', 'literary', 'helps', 'fatal', 'random', 'WRB', 'presently', 'automotive', 'putting', 'entire', 'recreation', 'knight', 'sanctions', 'crow', 'crop', 'rivers', 'copenhagen', 'depression', 'estonian', 'chicago', 'giving', 'anthem', 'pipes', 'practices', 'access', 'lumber', 'exercise', '3d', 'body', 'justification', 'exchange', 'jointly', 'bachelor', 'objects', 'others', 'sing', 'extreme', '39', 'talent', '33', '32', '30', '37', '36', '34', 'implement', 'proof', 'honor', 'finger', 'composed', 'named', 'FW', 'presidents', 'private', 'decrease', 'names', 'oval', 'scandal', 'festivals', 'inspiration', 'asteroid', 'themselves', 'defendant', 'trail', 'train', 'prizes', 'departure', 'iii', 'account', 'ace', 'f', 'tunnel', 'gabriel', 'hopkins', 'tag', 'obvious', 'industrial', 'closing', 'rehabilitation', 'gfdl', 'fringe', 'reserved', 'infantry', 'effectively', 'reserves', 'bones', 'native', 'lamb', 'varied', 'democracy', 'afd', 'holds', 'hampshire', 'afc', 'regions', 'responsibilities', 'winners', 'forest', 'stock', 'profile', 'buildings', 'y', 'sir', 'waters', 'philosophy', 'collection', 'leisure', 'bombers', 'lines', 'liner', 'chief', 'addiction', 'institutional', 'wedding', 'oral', 'meter', 'symbols', 'lands', 'agricultural', 'industries', 'bridges', 'le', 'la', 'labor', 'kindergarten', 'willing', 'marsh', 'criminal', 'junction', 'greater', 'descendants', 'dam', 'operator', 'mention', 'das', 'day', 'february', 'identified', 'morris', 'moses', 'identifies', 'experienced', 'warner', 'belgrade', 'apologize', 'wade', 'programmes', 'sexual', 'matt', 'defend', 'stub', 'mate', 'arkansas', 'lecture', 'electronics', 'ref', 'math', 'frank', 'fourteen', 'clarify', 'approaches', 'unreferenced', 'interaction', 'yard', 'NN', 'ruins', 'chicken', 'qualification', 'retain', 'retail', 'invisible', 'south', 'reaches', 'hey', 'improvements', 'puppet', 'reached', 'vandal', 'ancient', 'monkey', 'laps', 'intermediate', 'palestine', 'pakistani', 'cabin', 'gear', 'completed', 'nobody', 'environmental', 'resist', 'treatise', 'loves', 'visited', 'coronation', 'curves', 'tide', 'unlikely', 'have', 'throat', 'curved', 'demonstration', 'mid', 'parks', 'montgomery', 'mix', 'concerns', 'unless', 'encyclopedic', 'eight', 'preliminary', 'payment', 'dorsal', 'gather', 'request', 'disease', 'normally', 'selection', 'text', 'charles', 'hamlet', 'rotating', 'portfolio', 'supporter', 'staff', 'knowledge', 'controls', 'bernard', 'communist', 'inferior', 'equilibrium', 'regularly', 'stripes', 'bear', 'beam', 'timing', 'kazakhstan', 'areas', 'pok\\xc3\\xa9mon', 'organ', 'calling', 'fixed', 'gibson', 'constructing', 'exists', 'national', 'intensity', 'enhanced', 'greece', 'phases', 'reform', 'clearing', 'difficulties', 'routine', 'progress', 'boundary', 'colombian', 'janet', 'superior', 'deliver', 'optional', 'commenting', 'instant', 'freely', 'taking', 'equal', 'attributed', 'trips', 'swim', 'attributes', 'passing', 'highland', 'otherwise', 'comment', 'relevant', 'statues', 'earning', 'ad', 'swimmer', 'tremendous', 'copies', 'proposal', 'define', 'finishes', 'essentially', 'assert', 'finished', 'angles', 'bull', 'fellow', 'locomotives', 'volunteer', 'kenya', 'divisions', 'atmospheric', 'plain', 'appearance', 'value', 'rectangular', 'promoted', 'au', 'carved', 'file', 'almost', 'walks', 'helped', 'claimed', 'partner', 'inspector', ')', 'syrian', 'landmarks', 'administration', 'shuttle', 'finite', 'practice', 'novels', 'reporting', 'ion', 'sisters', 'judgment', 'scholars', 'center', 'nevertheless', 'weapon', 'antonio', 'thought', 'sets', 'position', 'muscle', 'soviet', 'latest', 'ny', 'stores', 'proximity', 'executive', 'domestic', 'clinic', 'stored', 'voltage', 'seats', 'dakota', 'protecting', 'ads', 'lake', 'bench', 'add', 'forbes', 'citizen', 'match', 'resolved', 'tests', 'worlds', 'doyle', 'insert', 'displaced', 'like', 'success', 'journalism', 'admitted', 'tram', 'journalist', 'works', 'soft', 'italian', 'accessible', 'classical', 'alive', 'hair', 'wider', 'proper', 'novelist', 'happens', 'shelter', 'assuming', 'transmitted', 'chains', 'noise', 'slight', 'lieutenant', 'host', 'although', 'panel', 'about', 'actual', 'justin', 'tomb', 'introduced', 'functional', 'socks', 'brands', 'guard', 'female', '1987', '1982', 'legends', 'submarine', 'vegetables', '1988', 'awarded', 'biggest', 'bus', 'brand', 'sequel', 'but', 'repeated', 'remote', 'editing', 'bug', 'partially', 'lynn', 'glory', 'wish', 'variations', 'minutes', 'skating', 'supreme', 'pin', 'deaths', 'circus', 'pig', 'crusade', 'periods', 'relates', 'paraguay', 'shooting', 'pit', 'campus', '48', '49', '46', 'corporation', '45', 'claiming', '43', 'virtual', 'forestry', 'special', 'granite', 'variation', 'ecological', 'prevalent', 'resolution', 'cpu', 'accidents', 'limited', 'dynasty', 'facilities', 'sleep', 'hate', 'poorly', 'feeding', 'paris', 'abundance', 'under', 'pride', 'risk', 'rise', 'every', 'jack', 'encounter', 'school', 'plural', 'venue', 'integrated', 'venus', 'bicycle', 'leaders', 'consistent', 'guidelines', 'estimates', 'direct', 'surrounding', 'street', 'estimated', 'blue', 'hide', 'christ', 'organisms', 'specification', 'selected', 'supplied', 'sung', 'endorse', 'supplies', 'disney', 'hundreds', 'studio', 'represented', 'path', 'generals', 'vikings', 'forum', 'auction', 'leaves', 'changed', 'museums', 'mentor', 'abolition', 'changes', 'punishment', 'feelings', 'visible', 'forums', 'would', 'hospital', 'noting', '25th', 'assessment', 'phone', 'connecticut', 'excellent', 'casualties', 'must', 'shoot', 'join', 'henri', 'mi', 'advocacy', 'mt', 'mw', 'mp', 'henry', 'my', 'fortress', 'decorative', 'inscription', 'estate', 'preserving', 'exile', 'times', 'attract', 'guarantee', 'ceremony', 'end', 'drummer', 'adjacent', 'toxic', 'gate', 'widespread', 'dialect', 'description', 'adrian', 'demanding', 'jumping', 'parallel', 'danny', 'patent', 'complexity', 'algorithms', 'ultimate', 'enter', 'archaeology', 'interpretation', 'over', 'london', 'thesis', 'destroyer', 'expectations', 'imo', 'writing', 'destroyed', 'edits', '400', 'iowa', 'diseases', 'prevented', 'tourism', 'alex', 'notified', 'voivodeship', 'chuck', 'detroit', 'herald', 'newport', 'victory', 'each', 'lasting', 'signing', 'combining', 'saturday', 'driving', 'god', 'theodore', 'laid', 'got', 'newly', 'independence', 'perception', 'associate', 'eternal', 'free', 'fred', 'formation', 'wanted', 'argument', 'ritual', 'days', 'filter', 'onto', 'already', 'researcher', 'attractions', 'primary', 'rank', 'hearing', 'fantasy', 'philosophical', 'adopted', 'mercury', 'rewritten', 'revival', 'top', 'heights', 'too', 'tom', 'percentage', 'urban', 'ceiling', 'murder', 'centered', 'tool', 'serve', 'took', 'western', 'prefecture', 'copyvio', '1979', 'roles', 'nominate', 'immigrants', 'tourists', 'classes', 'flame', 'quebec', 'raf', 'bridge', 'fashion', 'ran', 'rao', 'talking', 'rat', 'relatively', 'founding', 'traditionally', '1969', 'harper', '1965', '1967', '-', 'isolated', '1962', 'investment', 'contact', 'derek', 'effectiveness', 'rides', 'rider', 'though', 'audition', 'abc', 'plenty', 'commanding', 'tibetan', 'promotions', 'peers', 'rogers', 'clock', 'flow', 'treaty', 'freeway', 'reputation', 'enterprise', 'chris', 'sanctuary', 'pope', 'queen', 'sage', 'colors', 'radio', 'solutions', 'earth', 'spite', 'claude', 'situations', 'minnesota', 'photo', 'lodge', 'continuity', 'mixture', 'watch', 'fluid', 'criticized', 'guatemala', 'despite', 'report', 'botanical', 'countries', 'twice', 'shots', 'automatic', 'swept', 'habit', '1960s', 'detection', 'bed', 'capacity', 'continually', 'grandmother', 'autobiography', 'catalogue', 'discovers', 'hopefully', 'approach', 'discovery', 'confusion', 'incarnation', 'weak', 'however', 'boss', 'southeast', 'wear', 'dedication', 'news', 'improve', 'faced', 'goddess', 'fault', 'participating', 'players', 'games', 'similarities', 'expense', '900', 'trust', 'conference', 'beef', 'been', 'quickly', 'confident', 'beer', 'expected', 'diffs', 'drugs', 'republicans', 'search', 'uncommon', 'enterprises', 'craft', 'catch', 'kentucky', 'n', 'lesser', 'teachers', 'procedure', 'natives', 'pyramid', 'expenses', 'experts', 'exterior', 'containing', 'suggest', 'beside', 'complex', 'inventory', 'advances', 'several', 'satellite', 'peaks', 'sings', 'welsh', 'numerical', 'suburb', 'portal', 'characters', 'insisted', 'cycle', 'mentioning', 'shortly', 'charlie', 'possessed', 'ocean', 'savings', 'greatest', 'mother', 'hearts', 'jean', 'spencer', 'seasonal', 'leagues', 'departed', 'proposed', 'torah', 'grades', 'purchasing', 'campbell', 'dining', 'humanity', 'gave', 'serbia', 'bands', 'breaks', 'sussex', 'cultural', 'newcastle', 'judge', '59', 'burns', 'advanced', 'apart', 'appearing', '58', 'gift', '55', '54', 'hunt', '51', 'specific', 'renamed', 'offices', 'officer', 'arbitrary', 'successfully', 'malaysia', 'clubs', 'election', 'escape', 'contests', 'rhine', 'cambodia', 'armed', 'ear', 'ice', 'everything', 'christmas', 'core', 'deleted', 'corn', 'serbian', 'disappeared', 'corp', 'bangalore', 'permitted', 'chapter', 'census', 'attacks', 'dinner', 'misleading', 'plus', 'efforts', 'demise', 'primitive', 'presence', 'civil', 'puzzle', 'entrepreneur', 'ussr', 'donated', 'coastal', 'rounds', 'existed', 'rely', 'transform', 'why', 'virgin', 'anderson', 'fought', 'crews', 'synthesis', 'head', 'medium', 'amateur', 'attempted', 'differences', 'wireless', 'heat', 'hear', 'solar', 'sustained', 'removed', 'counsel', 'portions', 'versions', 'trio', 'estonia', 'sometime', 'trip', 'constructed', 'looked', 'no', 'whereas', 'when', 'tim', 'tin', 'setting', 'papers', 'tie', 'node', 'picture', 'football', 'andhra', 'discharge', 'younger', '1803', 'longer', 'corresponding', 'vietnam', 'serious', 'neighbors', 'coach', 'remarkable', 'affair', 'rob', 'varying', 'rod', 'focus', 'leads', 'roy', 'marion', 'displaying', 'row', '1942', '1940', '1947', '1945', 'environment', 'charge', 'trustees', 'promoting', 'discovering', 'henderson', 'federation', 'advantage', 'congregation', 'tanks', 'artwork', 'cook', 'emphasized', 'cool', 'clouds', 'impressive', 'level', 'philippines', 'posts', 'hawaii', 'standards', 'planning', 'quick', 'specializes', 'says', 'trend', 'dried', 'soldiers', 'port', 'substitute', 'drinks', 'constitution', 'contracted', 'debate', 'goes', 'reply', 'water', 'witch', 'groups', 'confused', '[', 'guilty', 'navigation', 'problematic', 'shark', '1st', 'touchdown', 'isles', 'handled', 'scan', 'athens', 'sports', 'andy', 'memory', 'australian', 'today', 'riot', 'sessions', 'altar', 'chocolate', 'employee', 'cases', 'autumn', 'collision', 'thousands', 'modified', 'districts', 'judy', 'ferry', 'boris', 'performer', 'stream', 'stroke', 'dropped', 'counting', 'hydrogen', 'swedish', 'requirements', '1963', 'inheritance', 'secured', 'watching', '1', 'vital', 'cardinal', 'fourth', 'ensure', 'information', 'islamic', '4th', 'representations', 'renovation', 'classroom', 'branches', 'liquid', 'inform', 'syndicated', 'representation', 'exclusive', 'mainly', 'worship', 'blocked', 'wallace', 'chips', 'organisation', 'coordinates', 'platform', 'offers', 'farmer', 'happened', 'conversations', 'evolution', 'underneath', 'qualified', 'hamilton', 'feature', 'wagon', 'term', 'equality', 'name', 'opera', 'corners', 'advent', 'possibilities', 'realistic', 'individually', 'differential', 'fuselage', 'populated', 'indianapolis', 'persian', 'seoul', 'ultimately', 'factors', 'profit', 'tensions', 'factory', 'kent', 'she', 'eagle', 'theory', 'accommodation', 'motion', 'turn', 'place', 'swing', 'charleston', 'discontinued', '1000', 'origin', 'surviving', 'revenue', 'faculty', 'symbolic', 'simplified', 'array', 'continent', 'george', 'millions', 'given', 'ian', 'district', 'stuck', 'lanka', 'europe', 'plastic', 'returns', 'convention', 'legally', 'white', 'circa', 'gives', 'copa', 'releases', 'season', 'montenegro', 'alan', 'released', 'shirley', 'immigrant', 'holder', 'specify', 'population', 'wide', 'unfortunately', 'require', 'diplomatic', 'computer', 'cards', 'outcome', 'oath', 'and', 'ana', 'ann', 'ani', 'episcopal', 'rent', 'nominating', 'sells', 'any', 'marathon', 'prosperity', 'conversion', 'transcription', 'ideas', 'phillips', 'ideal', 'animation', 'sure', 'multiple', 'ukrainian', 'falls', 'visitors', 'fcc', 'icon', 'considered', 'proud', 'trafficking', 'uncle', 'senior', 'quantity', 'slope', 'raja', 'workshops', 'allegations', 'troy', 'spaces', 'gulf', 'state', 'crime', 'wood', 'believing', 'viewpoint', 'mormon', 'jazz', 'responding', 'lighter', 'closure', 'reveal', 'regarding', 'aluminum', '1825', 'floods', '1827', 'naked', 'jokes', 'embassy', 'predicted', 'discussing', 'reveals', 'encourages', 'violated', 'connections', '1921', 'college', 'parking', '1928', '1929', 'encouraged', 'cadets', 'fails', 'detect', 'voluntary', 'farmers', 'ways', 'subsequent', 'review', 'definite', 'weapons', 'north-west', 'outside', 'originated', 'guitar', 'cities', 'come', 'reaction', 'acquiring', 'missions', 'region', 'priests', 'quiet', 'contract', 'berry', 'railway', 'duty', 'pakistan', 'afterwards', 'pov', 'pot', 'colony', 'period', 'pop', '60', '61', 'pole', '63', '64', 'polo', 'bizarre', 'poll', 'howard', 'peaceful', 'helicopter', 'featuring', 'hardly', '500', 'engine', 'direction', 'andrew', 'tiger', 'minister', 'andrea', 'irrelevant', 'champions', 'pilot', 'case', 'shaft', 'myself', 'mount', 'cash', 'cast', 'shops', 'coupled', 'telephone', 'couples', 'someone', 'participant', 'author', 'alphabet', 'granted', 'bowl', 'check', 'ethiopia', 'html', 'events', 'week', 'nest', 'driver', 'drives', 'director', 'persons', 'statutory', 'arose', 'statue', 'IN', 'changing', 'vocalist', 'perennial', 'otto', 'pennsylvania', 'relegation', 'ranch', 'magical', 'without', 'relief', 'components', 'model', 'reward', 'bodies', 'brisbane', 'tip', 'actions', 'violent', 'kill', 'harrison', 'polish', 'baldwin', 'guides', 'captured', 'halfway', 'blow', 'announcement', 'feminist', 'seems', 'except', 'blog', 'lets', 'shrine', 'viewers', 'samples', 'styles', 'kills', 'virginia', 'inflation', 'confined', 'accepted', 'color', 'furniture', 'walt', 'particle', 'kennedy', 'photographs', 'patrick', 'reduces', 'donations', 'tower', 'reduced', '1989', 'variants', 'madrid', 'competition', 'respect', 'intact', 'provided', 'caribbean', 'mood', 'prolific', 'highest', 'stops', 'moon', 'buddha', 'provides', 'porter', 'communicate', 'outreach', 'on', 'ok', 'oh', 'of', 'discussed', 'stand', 'decent', 'concentrations', 'gregory', 'tributary', 'os', 'or', 'op', 'tribe', 'ladies', 'cambridge', 'reactions', 'instruments', 'charts', 'councillors', 'determine', 'gary', 'burton', 'strictly', 'there', 'racism', 'christianity', 'strict', 'racist', 'cultures', 'valley', 'energy', 'catholics', 'municipalities', 'regard', 'amongst', 'cabinet', 'promote', 'faster', 'terminus', 'applying', 'grass', 'strongly', 'cbc', 'taylor', 'contributors', 'cinema', 'taste', 'minneapolis', 'britain', 'governed', 'politics', 'operation', 'incorrect', 'deserve', 'insurance', 'rubber', '5', 'requested', 'briefly', 'championship', 'collaborative', 'separate', 'symbol', 'finale', 'souls', 'cove', 'includes', 'perry', 'nucleus', 'included', 'brass', 'calls', 'wife', 'curve', 'barcelona', 'directors', 'directory', 'all', 'chinese', 'ali', 'lack', 'seals', 'spacecraft', 'disc', 'dish', 'follow', 'meditation', 'settlement', 'decisions', 'synthetic', 'apartment', 'subjected', 'acting', 'opportunities', 'removal', 'aaron', 'program', 'dairy', 'present', 'siblings', 'crest', 'activities', 'belonging', 'woman', 'worse', 'song', 'far', 'alternatives', 'fat', 'cyclone', 'sons', 'fan', 'fac', 'ticket', 'list', 'lisa', 'programme', 'rats', 'ten', 'tea', 'rate', 'invention', 'design', 'subspecies', 'what', 'imported', 'sub', 'sun', 'sum', 'brief', 'crush', 'version', 'sur', 'guns', 'devoted', 'christian', 'tags', 'mar\\xc3\\xada', 'supposedly', 'behaviour', 'leeds', 'andrews', 'directions', 'equations', 'tragedy', 'mikhail', 'naval', '1841', '1840', 'allows', 'options', 'suddenly', 'screens', 'texts', '2000s', '1909', '1907', 'passage', '1901', 'proceed', 'markets', 'minor', 'horses', 'flat', 'israel', 'knows', 'operators', 'pairs', 'flag', 'stick', 'known', 'presumed', 'debates', 'salvador', 'equation', 'debated', 'v', 'gothic', 'tennis', 'challenging', 'brown', 'protective', 'niagara', 'arise', 'pond', 'offspring', 'terrestrial', 'court', 'goal', 'rather', 'breaking', 'occasionally', 'buenos', 'explains', 'reflect', 'catalog', 'lighting', 'adventure', 'softball', 'trademark', 'short', 'susan', 'plateau', 'trevor', 'shore', 'began', 'september', 'essence', 'mission', 'disabled', 'scientist', 'milwaukee', 'avenue', 'islam', 'style', 'abbey', 'resort', 'strange', 'stephen', 'bout', 'might', 'return', 'framework', 'communities', 'bigger', 'instructions', 'marcus', '12th', 'inherent', 'athletics', 'residing', 'friendship', 'characterized', 'pirates', 'weight', 'generation', 'brother', 'expect', 'organised', 'divide', 'alcohol', 'presenter', 'nepal', 'hydraulic', 'reverend', 'health', 'hill', 'paradise', 'induced', 'benjamin', 'fiber', 'differ', 'heads', 'teach', 'generate', 'thread', 'prejudice', 'threat', 'consequence', 'feed', 'limestone', 'feel', 'radical', 'linking', 'feet', 'least', 'colombia', 'fees', 'temples', 'passes', 'story', 'temperature', 'script', 'leading', 'interviews', '180', 'passed', 'store', 'option', 'exploded', 'hotel', 'treasurer', 'optical', 'rifle', 'convinced', 'king', 'kind', 'double', 'instruction', 'aims', 'prairie', 'architect', 'risks', 'motivation', 'uniforms', 'outstanding', 'suspicious', 'alike', 'wilson', 'nights', 'rochester', 'bacteria', 'finding', 'pianist', 'added', 'electric', 'warnings', 'measures', 'reach', 'RBR', 'architects', '77', '76', '75', '72', '70', 'nothing', 'seasons', 'measured', 'achievement', '78', 'mineral', 'windows', 'traditional', 'dissolved', 'institutions', 'stones', 'JJ', 'cds', 'excessive', 'melody', 'font', 'securing', 'penalty', 'luis', 'hip', 'his', 'hit', 'hiv', 'b', 'longest', 'critically', 'him', 'activity', 'sustainable', 'baroque', 'wrote', 'bars', 'art', 'bart', 'achieved', 'intelligence', 'ministers', 'defense', 'are', 'chambers', 'arm', 'declined', 'barn', 'recording', 'learns', 'threats', 'distinctive', 'libraries', 'unions', 'various', 'numerous', 'corruption', 'solo', 'latin', 'recently', 'creating', 'initially', 'sold', 'attention', 'outfit', 'opposition', 'franchise', 'lap', 'bronze', 'c', 'license', 'roman', 'became', 'unincorporated', 'context', 'baseball', 'finds', 'albeit', 'reside', 'flies', 'reasons', 'smith', 'harbour', 'regulated', 'village', 'pr', 'decline', 'java', 'political', 'due', 'teacher', 'whom', 'reduction', 'pa', 'brick', 'pm', 'referee', 'flight', '1950s', 'algeria', 'ages', '1863', 'demand', 'instructor', 'plants', 'georgia', 'conception', 'warrant', 'civility', 'batch', 'behavior', 'engineers', 'demon', 'rio', 'rid', 'ethnicity', 'lengthy', 'shirt', 'lengths', 'firearms', 'widely', 'peoples', '9', 'advise', 'higher', 'arrives', 'paths', 'cement', 'holidays', 'moving', 'lower', 'dancing', 'analysis', 'edge', 'machinery', 'stating', 'know', 'abilities', 'intervals', 'questions', 'summaries', 'tables', 'workers', 'exclusively', 'governmental', 'exhibition', 'theorem', 'violations', 'totally', 'associations', 'complaint', 'jacksonville', 'modifications', 'capitals', 'ignore', 'collect', 'arthur', 'unstable', 'essential', 'ecology', 'traits', 'gradually', 'absolutely', 'crisis', 'tends', 'anne', 'prod', 'anna', 'martin', 'refuses', 'intense', 'completing', 'plaza', 'brooklyn', 'range', 'militia', 'dwight', 'canal', 'rows', 'question', 'fast', 'prey', 'sections', 'files', 'mountains', 'criteria', 'repeatedly', 'delta', 'junior', 'raising', 'consist', 'characteristic', 'z', 'landscapes', 'called', 'mediation', 'associated', 'commissioner', 'coordinator', 'warning', 'rainbow', 'conductor', 'peace', 'towers', 'income', 'nice', 'users', 'problems', 'helping', 'meaning', 'allowing', 'remix', 'vice', 'departments', 'attacking', 'nasa', 'thames', 'narrative', 'nash', 'buffalo', 'once', 'issued', 'resistance', 'steve', 'gang', 'referencing', 'winds', 'contributions', 'issues', 'simon', 'cruiser', 'shanghai', 'languages', 'stable', 'breach', 'include', 'wished', 'mainstream', 'electron', 'graphic', 'drinking', 'notes', 'deals', 'fortified', 'businesses', 'settlers', 'noted', 'concluded', 'smaller', 'wrestling', 'traveling', 'acid', 'makers', 'folk', 'medieval', 'universities', 'flagship', 'networks', '19th', 'capital', 'cao', 'technology', 'chose', 'degree', 'youngest', 'desired', 'explore', 'separation', 'settling', 'survivor', 'larger', 'leaving', 'suggests', 'apple', 'scales', 'egypt', 'motor', 'duck', 'apply', 'use', 'fee', 'from', 'figure', 'usa', 'frog', 'few', 'depicted', 'examination', 'eagles', 'possession', 'parliament', 'journalists', 'inclined', 'musician', 'heir', 'infection', 'rabbit', 'sculptor', 'women', '1980s', 'critic', 'anywhere', 'performed', 'ordained', 'patrol', 'tax', 'villain', 'assumptions', 'something', 'serial', 'rape', 'summers', 'united', 'syndrome', 'guru', 'six', 'instead', 'panic', 'sin', 'tension', 'administrator', 'maternal', 'abuse', 'ethnic', '1885', '1883', '1880', 'highlands', 'sculptures', 'light', 'chapman', 'tenure', 'preparing', 'interpreted', 'whilst', '130', 'looks', 'underwater', 'ships', 'permanent', 'choose', 'orange', 'researchers', 'holiday', 'defining', 'pending', 'crash', 'orthodox', 'washington', 'material', 'satellites', 'republican', 'successor', 'landings', 'articles', 'transmitter', 'edit', 'nfl', 'feast', 'rockets', 'studios', 'related', '89', 'doubled', '82', 'our', '80', '84', 'out', 'category', 'chaos', 'performs', 'supports', 'dive', 'dictionary', 'maintains', 'york', 'conflicts', 'networking', 'philip', 'compositions', 'organic', 'waterloo', 'g', 'informs', 'conversation', 'ltd', 'hence', 'isbn', 'echo', 'eleventh', 'noticed', 'straight', 'endemic', 'destinations', 'publication', 'unknown', 'eighth', 'priority', 'their', 'shell', 'academy', 'reversed', 'shallow', 'regards', 'constituent', 'july', 'institution', 'isolation', 'tommy', 'patients', 'sculpture', 'clip', 'teenagers', 'imdb', 'linked', 'catholic', 'afraid', 'angle', 'pupils', 'russians', 'agency', 'which', 'trivia', 'vegetation', 'gmina', 'ray', 'combat', 'centre', 'collaboration', 'who', 'class', 'statute', 'deny', 'neighboring', 'pipe', 'non-free', 'uefa', 'ho', 'chances', 'electoral', 'agreed', 'chapters', 'purely', 'parliamentary', 'democrats', 'dorothy', 'fear', 'eyes', 'agrees', 'filmed', 'pastoral', 'cache', 'operational', 'candidates', 'piano', 'local', 'cuba', 'midnight', 'ones', 'words', 'spur', 'married', 'generations', 'view', 'available', 'requirement', 'nitrogen', 'module', 'merits', 'responses', 'closer', 'cole', 'arguably', 'favor', 'identification', 'closed', 'stories', 'frustrated', 'publishers', 'amazon', 'ability', 'opening', 'agencies', 'job', 'hypothesis', 'joe', 'swift', 'declining', 'commands', 'april', 'grain', 'tactical', 'grounds', 'unclear', 'wall', 'environments', 'walk', 'packaging', 'sequences', 'table', 'provinces', 'hindu', 'hunters', 'bbc', 'window', 'agreements', 'mike', 'liverpool', 'painted', 'sufficient', 'nominations', 'ensuring', 'painter', 'abandoned', 'unlike', 'restaurant', 'choices', 'will', 'wild', 'rename', 'layer', 'refs', 'thus', 'audiences', 'lightweight', 'halt', 'perhaps', 'vintage', 'buddhist', 'radiation', 'cross', 'member', 'buddhism', 'geographical', 'largest', 'units', 'gets', 'difficult', 'slave', 'premiere', 'conceived', 'disagree', 'beast', 'coaches', 'student', 'pdf', 'whale', 'lobby', 'celtic', 'contest', 'fighting', 'english', 'firstly', '1951', 'cameo', 'rocket', 'heavily', 'half', 'obtain', 'batteries', 'fishing', 'brad', 'rapid', 'console', 'provision', 'supply', 'sky', 'capabilities', 'discuss', 'book', 'adoption', 'usage', 'sanskrit', 'ski', 'identical', 'sick', 'provisions', 'protesters', 'community', 'facial', 'press', 'knox', 'helpful', 'miami', 'loses', 'rituals', 'hosts', 'james', 'starred', 'because', 'clusters', 'sequence', 'church', 'searching', 'platforms', 'growth', 'export', '110', 'empire', 'employment', 'leaf', 'lead', 'philosopher', 'leader', 'trout', 'locate', 'apostolic', 'murdered', 'hostage', 'throne', 'rare', 'carried', 'extension', 'getting', 'column', 'universe', 'shipping', 'carrier', 'emperor', 'own', 'wilderness', 'weather', 'promise', 'registration', 'fired', 'van', 'platoon', 'suburbs', 'artifacts', 'transfer', 'munster', 'spiral', 'continental', 'intention', 'breeding', 'triggered', 'funds', 'volume', 'tasked', 'automated', 'made', 'tactics', 'whether', 'record', 'below', 'ruling', 'cake', 'demonstrate', 'lightning', 'broadly', 'reflecting', 'happen', 'mutual', \"'ll\", 'guitarist', 'boot', 'illinois', 'other', 'boom', 'normal', 'long-time', 'conclusion', 'lance', 'kinds', 'june', 'inherently', 'margaret', 'auxiliary', 'intentionally', 'npov', 'volumes']\n"
     ]
    }
   ],
   "source": [
    "print dataset.word_to_idx.keys()"
   ]
  },
  {
   "cell_type": "code",
   "execution_count": 129,
   "metadata": {},
   "outputs": [],
   "source": [
    "from nltk.corpus import brown\n",
    "from nltk import ngrams\n",
    "from nltk import FreqDist\n",
    "import numpy as np\n",
    "from collections import Counter\n",
    "\n",
    "\n",
    "class FreqBrownDataset(object):\n",
    "    def __init__(self, include_start=True):\n",
    "        self.words = brown.words()\n",
    "        self.words = map(lambda x: x.lower(), self.words)\n",
    "        self.total_word_cnt = len(self.words) + 2 * len(brown.sents())  # include START and END\n",
    "        if include_start:\n",
    "            self.words.append(u'START')\n",
    "        self.words.append(u'END')\n",
    "        self.vocab = set(self.words)\n",
    "\n",
    "\n",
    "        self.vocab_len = len(self.vocab)\n",
    "        self.word_to_idx = dict(zip(list(self.vocab), range(self.vocab_len)))\n",
    "\n",
    "        self.sentences = []\n",
    "        self.bigrams = []\n",
    "        self.unigrams = []\n",
    "        for sent in brown.sents():\n",
    "            sentence = map(lambda x: x.lower(), sent)\n",
    "            if include_start:\n",
    "                sentence.insert(0, u'START')\n",
    "            sentence.append(u'END')\n",
    "            self.sentences.append(sentence)\n",
    "            self.bigrams.extend(list(ngrams(sentence, 2)))\n",
    "            self.unigrams.extend(sentence)\n",
    "\n",
    "        self.unigram_freq = dict(Counter(self.unigrams))\n",
    "\n",
    "        self.num_sentences = len(self.sentences)\n",
    "        self.bigram_cnt = FreqDist(self.bigrams)\n",
    "        self.bigram_len = len(self.bigram_cnt)\n",
    "        self.bigram_idx = dict(zip(self.bigram_cnt.keys(), range(self.bigram_len)))\n",
    "        self.bigram_freq = np.asarray(self.bigram_cnt.values())\n",
    "        self.num_bigrams = len(self.bigram_cnt)"
   ]
  },
  {
   "cell_type": "code",
   "execution_count": 130,
   "metadata": {},
   "outputs": [],
   "source": [
    "freqdata = FreqBrownDataset()"
   ]
  },
  {
   "cell_type": "code",
   "execution_count": 146,
   "metadata": {},
   "outputs": [],
   "source": [
    "from sklearn.decomposition import PCA\n",
    "pca = PCA(n_components=2)\n",
    "singular = ['life', 'nation', 'blog', 'chart', 'fan']\n",
    "plural = ['lives', 'nations', 'blogs', 'charts', 'fans']"
   ]
  },
  {
   "cell_type": "code",
   "execution_count": 147,
   "metadata": {},
   "outputs": [
    {
     "name": "stdout",
     "output_type": "stream",
     "text": [
      "105 93\n"
     ]
    }
   ],
   "source": [
    "import nltk\n",
    "import nltk.tokenize\n",
    "\n",
    "cnt1 = 0\n",
    "cnt2 = 0\n",
    "pts = 100\n",
    "for word in dataset.word_to_idx.keys():\n",
    "    if cnt1 > pts and cnt2 > pts:\n",
    "        break\n",
    "    if cnt1 < pts and nltk.pos_tag(nltk.word_tokenize(word))[0][1] == 'NN' and (word in freqdata.unigram_freq and freqdata.unigram_freq[word] > 100):\n",
    "        singular.append(word)\n",
    "        cnt1 += 1\n",
    "    if cnt2 < pts and nltk.pos_tag(nltk.word_tokenize(word))[0][1] == 'NNS' and  (word in freqdata.unigram_freq and freqdata.unigram_freq[word] > 100):\n",
    "        plural.append(word)\n",
    "        cnt2 += 1\n",
    "print len(singular), len(plural)"
   ]
  },
  {
   "cell_type": "code",
   "execution_count": 200,
   "metadata": {},
   "outputs": [
    {
     "name": "stdout",
     "output_type": "stream",
     "text": [
      "['life', 'nation', 'blog', 'chart', 'fan', 'increase', 'brought', 'unit', 'music', 'hold', 'example', 'want', 'machine', 'series', 'service', 'person', 'mouth', 'letter', 'result', 'nature', 'extent', 'country', 'union', 'life', 'child', 'east', 'right', 'son', 'support', 'floor', 'time', 'corps', 'choice', 'room', 'love', 'date', 'stress', 'course', 'square', 'training', 'city', 'future', 'saw', 'note', 'drive', 'hour', 'west', 'situation', 'summer', 'rest', 'dark', 'world', 'power', 'industry', 'act', 'image', 'congress', 'spirit', 'past', 'section', 'method', 'experience', 'action', 'door', 'company', 'science', 'beautiful', 'sense', 'plant', 'plane', 'trade', 'attitude', 'paper', 'found', 'england', 'research', 'number', 'show', 'play', 'plan', 'river', 'set', 'firm', 'fire', 'read', 'couple', 'continue', 'spring', 'religion', 'agreement', 'anything', 'line', 'influence', 'land', 'age', 'try', 'race', 'doubt', 'process', 'move', 'truth', 'society', 'length', 'system', 'lot']\n",
      "['lives', 'nations', 'blogs', 'charts', 'fans', 'types', 'effects', 'schools', 'nations', 'played', 'things', 'steps', 'people', 'studies', 'values', 'knew', 'costs', 'hours', 'states', 'plans', 'police', 'methods', 'elements', 'results', 'means', 'figures', 'letters', 'rates', 'forces', 'de', 'terms', 'months', 'forms', 'cars', 'sales', 'systems', 'trees', 'conditions', 'products', 'becomes', 'hands', 'data', 'relations', 'years', 'parts', 'friends', 'men', 'arms', 'weeks', 'girls', 'points', 'programs', 'yes', 'teeth', 'miles', 'students', 'children', 'numbers', 'needs', 'members', 'services', 'boys', 'others', 'lines', 'areas', 'works', 'minutes', 'leaders', 'changes', 'times', 'days', 'countries', 'efforts', 'groups', 'cases', 'factors', 'ideas', 'ways', 'cities', 'events', 'persons', 'activities', 'ten', 'feet', 'c', 'reasons', 'questions', 'problems', 'women', 'eyes', 'ones', 'words', 'james']\n"
     ]
    }
   ],
   "source": [
    "X = []\n",
    "y=[]\n",
    "for word in singular:\n",
    "    X.append(word)\n",
    "    y.append(0)\n",
    "for word in plural:\n",
    "    X.append(word)\n",
    "    y.append(1)\n",
    "print singular\n",
    "print plural"
   ]
  },
  {
   "cell_type": "code",
   "execution_count": 178,
   "metadata": {},
   "outputs": [],
   "source": [
    "again_model.train(mode=False)\n",
    "nX = []\n",
    "embds = []\n",
    "for word in X:\n",
    "    x = Variable(torch.LongTensor([dataset.word_to_idx[word]]))\n",
    "    out = again_model.word_embeddings(x)\n",
    "    embds.append(out.data.numpy()[0])"
   ]
  },
  {
   "cell_type": "code",
   "execution_count": 183,
   "metadata": {},
   "outputs": [
    {
     "name": "stdout",
     "output_type": "stream",
     "text": [
      "[[ 0.22227319 -0.07324667  0.18352717 ... -1.0102937   1.4540558\n",
      "   0.28696075]\n",
      " [-0.32219166  0.95803815 -0.8690596  ...  1.290695    0.75507176\n",
      "  -0.9994384 ]\n",
      " [ 0.21880071  0.5044457  -0.3551879  ...  1.8668016  -0.60911375\n",
      "  -1.152307  ]\n",
      " ...\n",
      " [-1.5500245  -1.3036621   1.1253486  ...  0.11357416  0.00397282\n",
      "   0.04472358]\n",
      " [-0.5956684  -1.9852366  -0.16762395 ...  0.19693345 -0.57112145\n",
      "   0.12983014]\n",
      " [-0.29424086 -0.34373528  1.1693498  ...  0.4139107  -0.54571754\n",
      "   0.4484114 ]]\n"
     ]
    }
   ],
   "source": [
    "embds = np.asarray(embds)\n",
    "print embds"
   ]
  },
  {
   "cell_type": "code",
   "execution_count": 195,
   "metadata": {},
   "outputs": [
    {
     "name": "stdout",
     "output_type": "stream",
     "text": [
      "[0, 0, 0, 0, 0, 0, 0, 0, 0, 0, 0, 0, 0, 0, 0, 0, 0, 0, 0, 0, 0, 0, 0, 0, 0, 0, 0, 0, 0, 0, 0, 0, 0, 0, 0, 0, 0, 0, 0, 0, 0, 0, 0, 0, 0, 0, 0, 0, 0, 0, 0, 0, 0, 0, 0, 0, 0, 0, 0, 0, 0, 0, 0, 0, 0, 0, 0, 0, 0, 0, 0, 0, 0, 0, 0, 0, 0, 0, 0, 0, 0, 0, 0, 0, 0, 0, 0, 0, 0, 0, 0, 0, 0, 0, 0, 0, 0, 0, 0, 0, 0, 0, 0, 0, 0, 1, 1, 1, 1, 1, 1, 1, 1, 1, 1, 1, 1, 1, 1, 1, 1, 1, 1, 1, 1, 1, 1, 1, 1, 1, 1, 1, 1, 1, 1, 1, 1, 1, 1, 1, 1, 1, 1, 1, 1, 1, 1, 1, 1, 1, 1, 1, 1, 1, 1, 1, 1, 1, 1, 1, 1, 1, 1, 1, 1, 1, 1, 1, 1, 1, 1, 1, 1, 1, 1, 1, 1, 1, 1, 1, 1, 1, 1, 1, 1, 1, 1, 1, 1, 1, 1, 1, 1, 1, 1, 1, 1, 1]\n"
     ]
    }
   ],
   "source": [
    "print y"
   ]
  },
  {
   "cell_type": "code",
   "execution_count": 199,
   "metadata": {},
   "outputs": [
    {
     "ename": "TypeError",
     "evalue": "Type Variable doesn't implement stateless method svd",
     "output_type": "error",
     "traceback": [
      "\u001b[0;31m---------------------------------------------------------------------------\u001b[0m",
      "\u001b[0;31mTypeError\u001b[0m                                 Traceback (most recent call last)",
      "\u001b[0;32m<ipython-input-199-4c9be519a686>\u001b[0m in \u001b[0;36m<module>\u001b[0;34m()\u001b[0m\n\u001b[1;32m      1\u001b[0m \u001b[0mtorch_embds\u001b[0m \u001b[0;34m=\u001b[0m \u001b[0mVariable\u001b[0m\u001b[0;34m(\u001b[0m\u001b[0mtorch\u001b[0m\u001b[0;34m.\u001b[0m\u001b[0mFloatTensor\u001b[0m\u001b[0;34m(\u001b[0m\u001b[0membds\u001b[0m\u001b[0;34m)\u001b[0m\u001b[0;34m,\u001b[0m \u001b[0mrequires_grad\u001b[0m\u001b[0;34m=\u001b[0m\u001b[0mFalse\u001b[0m\u001b[0;34m)\u001b[0m\u001b[0;34m\u001b[0m\u001b[0m\n\u001b[0;32m----> 2\u001b[0;31m \u001b[0mtorch\u001b[0m\u001b[0;34m.\u001b[0m\u001b[0msvd\u001b[0m\u001b[0;34m(\u001b[0m\u001b[0mtorch\u001b[0m\u001b[0;34m.\u001b[0m\u001b[0mt\u001b[0m\u001b[0;34m(\u001b[0m\u001b[0mtorch_embds\u001b[0m\u001b[0;34m)\u001b[0m\u001b[0;34m)\u001b[0m\u001b[0;34m\u001b[0m\u001b[0m\n\u001b[0m\u001b[1;32m      3\u001b[0m \u001b[0mlow_dim\u001b[0m \u001b[0;34m=\u001b[0m \u001b[0mtorch\u001b[0m\u001b[0;34m.\u001b[0m\u001b[0mmm\u001b[0m\u001b[0;34m(\u001b[0m\u001b[0mout1\u001b[0m\u001b[0;34m,\u001b[0m\u001b[0mU1\u001b[0m\u001b[0;34m[\u001b[0m\u001b[0;34m:\u001b[0m\u001b[0;34m,\u001b[0m\u001b[0;34m:\u001b[0m\u001b[0;36m2\u001b[0m\u001b[0;34m]\u001b[0m\u001b[0;34m)\u001b[0m\u001b[0;34m\u001b[0m\u001b[0m\n\u001b[1;32m      4\u001b[0m \u001b[0;34m\u001b[0m\u001b[0m\n",
      "\u001b[0;31mTypeError\u001b[0m: Type Variable doesn't implement stateless method svd"
     ]
    }
   ],
   "source": [
    "torch_embds = Variable(torch.FloatTensor(embds), requires_grad=False)\n",
    "torch.svd(torch.t(torch_embds))\n",
    "low_dim = torch.mm(out1,U1[:,:2])\n",
    "    "
   ]
  },
  {
   "cell_type": "code",
   "execution_count": 194,
   "metadata": {},
   "outputs": [
    {
     "data": {
      "image/png": "[encoded data removed]",
      "text/plain": [
       "<matplotlib.figure.Figure at 0x7fe54b755750>"
      ]
     },
     "metadata": {},
     "output_type": "display_data"
    }
   ],
   "source": [
    "colors = ['navy', 'darkorange']\n",
    "lw = 2\n",
    "\n",
    "for color, i in zip(colors, [0, 1]):\n",
    "    pyplot.scatter(X[y == i, 0], X[y == i, 1], color=color)\n",
    "\n"
   ]
  },
  {
   "cell_type": "code",
   "execution_count": null,
   "metadata": {},
   "outputs": [],
   "source": []
  },
  {
   "cell_type": "code",
   "execution_count": null,
   "metadata": {},
   "outputs": [],
   "source": []
  }
 ],
 "metadata": {
  "kernelspec": {
   "display_name": "Python 2",
   "language": "python",
   "name": "python2"
  },
  "language_info": {
   "codemirror_mode": {
    "name": "ipython",
    "version": 2
   },
   "file_extension": ".py",
   "mimetype": "text/x-python",
   "name": "python",
   "nbconvert_exporter": "python",
   "pygments_lexer": "ipython2",
   "version": "2.7.14"
  }
 },
 "nbformat": 4,
 "nbformat_minor": 2
}
